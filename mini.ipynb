{
 "cells": [
  {
   "cell_type": "raw",
   "metadata": {
    "ExecuteTime": {
     "end_time": "2021-12-24T18:01:13.117013Z",
     "start_time": "2021-12-24T18:01:13.114006Z"
    },
    "id": "K6Vo3UKQin2Z"
   },
   "source": [
    "# Team:\n",
    "Rahul Sidda (MT2021135)\n",
    "K Prudhvi Nag (MT2021062)"
   ]
  },
  {
   "cell_type": "code",
   "execution_count": 6,
   "metadata": {
    "ExecuteTime": {
     "end_time": "2021-12-05T06:55:08.815191Z",
     "start_time": "2021-12-05T06:55:08.812563Z"
    },
    "id": "ZYr4WrrDof5F"
   },
   "outputs": [],
   "source": [
    "import pandas as pd\n",
    "import numpy as np\n",
    "import matplotlib.pyplot as plt\n",
    "import seaborn as sns\n",
    "import math"
   ]
  },
  {
   "cell_type": "code",
   "execution_count": null,
   "metadata": {
    "id": "iVc4Cg1JX-UW"
   },
   "outputs": [],
   "source": []
  },
  {
   "cell_type": "code",
   "execution_count": null,
   "metadata": {
    "id": "72j9Yyg9Gnh_"
   },
   "outputs": [],
   "source": []
  },
  {
   "cell_type": "code",
   "execution_count": 7,
   "metadata": {
    "ExecuteTime": {
     "end_time": "2021-12-05T06:55:10.048802Z",
     "start_time": "2021-12-05T06:55:10.047152Z"
    },
    "id": "2oJL0-BjiW4N"
   },
   "outputs": [],
   "source": [
    "import json\n",
    "import string"
   ]
  },
  {
   "cell_type": "code",
   "execution_count": 8,
   "metadata": {
    "ExecuteTime": {
     "end_time": "2021-12-05T06:55:42.837068Z",
     "start_time": "2021-12-05T06:55:42.694071Z"
    },
    "id": "wDRYT44Goxc3"
   },
   "outputs": [],
   "source": [
    "\n",
    "data = pd.read_csv(\"train_data.csv\",na_values='?')\n",
    "test_data=pd.read_csv(\"test_data.csv\",na_values='?')"
   ]
  },
  {
   "cell_type": "code",
   "execution_count": 9,
   "metadata": {
    "ExecuteTime": {
     "end_time": "2021-12-05T06:55:43.656163Z",
     "start_time": "2021-12-05T06:55:43.651302Z"
    },
    "colab": {
     "base_uri": "https://localhost:8080/"
    },
    "id": "sWvJMvr2xohU",
    "outputId": "ec10d2e5-bb7c-417c-8b3b-9d0ca936d26b"
   },
   "outputs": [
    {
     "data": {
      "text/plain": [
       "Index(['url', 'webpageDescription', 'alchemy_category',\n",
       "       'alchemy_category_score', 'avgLinkWordLength',\n",
       "       'AvglinkWithOneCommonWord', 'AvglinkWithTwoCommonWord',\n",
       "       'AvglinkWithThreeCommonWord', 'AvglinkWithFourCommonWord',\n",
       "       'redundancyMeasure', 'embedRatio', 'framebased', 'frameTagRatio',\n",
       "       'domainLink', 'tagRatio', 'imageTagRatio', 'isNews', 'lengthyDomain',\n",
       "       'hyperlinkToAllWordsRatio', 'isFrontPageNews', 'alphanumCharCount',\n",
       "       'linksCount', 'wordCount', 'parametrizedLinkRatio',\n",
       "       'spellingErrorsRatio', 'label', 'id'],\n",
       "      dtype='object')"
      ]
     },
     "execution_count": 9,
     "metadata": {},
     "output_type": "execute_result"
    }
   ],
   "source": [
    "data.columns"
   ]
  },
  {
   "cell_type": "code",
   "execution_count": 10,
   "metadata": {
    "ExecuteTime": {
     "end_time": "2021-12-05T06:55:43.860149Z",
     "start_time": "2021-12-05T06:55:43.827723Z"
    },
    "colab": {
     "base_uri": "https://localhost:8080/",
     "height": 391
    },
    "id": "iCvdk7vqpmGo",
    "outputId": "b841979a-aaac-4e4f-a8e6-07685c9ba7ca"
   },
   "outputs": [
    {
     "data": {
      "text/html": [
       "<div>\n",
       "<style scoped>\n",
       "    .dataframe tbody tr th:only-of-type {\n",
       "        vertical-align: middle;\n",
       "    }\n",
       "\n",
       "    .dataframe tbody tr th {\n",
       "        vertical-align: top;\n",
       "    }\n",
       "\n",
       "    .dataframe thead th {\n",
       "        text-align: right;\n",
       "    }\n",
       "</style>\n",
       "<table border=\"1\" class=\"dataframe\">\n",
       "  <thead>\n",
       "    <tr style=\"text-align: right;\">\n",
       "      <th></th>\n",
       "      <th>url</th>\n",
       "      <th>webpageDescription</th>\n",
       "      <th>alchemy_category</th>\n",
       "      <th>alchemy_category_score</th>\n",
       "      <th>avgLinkWordLength</th>\n",
       "      <th>AvglinkWithOneCommonWord</th>\n",
       "      <th>AvglinkWithTwoCommonWord</th>\n",
       "      <th>AvglinkWithThreeCommonWord</th>\n",
       "      <th>AvglinkWithFourCommonWord</th>\n",
       "      <th>redundancyMeasure</th>\n",
       "      <th>...</th>\n",
       "      <th>lengthyDomain</th>\n",
       "      <th>hyperlinkToAllWordsRatio</th>\n",
       "      <th>isFrontPageNews</th>\n",
       "      <th>alphanumCharCount</th>\n",
       "      <th>linksCount</th>\n",
       "      <th>wordCount</th>\n",
       "      <th>parametrizedLinkRatio</th>\n",
       "      <th>spellingErrorsRatio</th>\n",
       "      <th>label</th>\n",
       "      <th>id</th>\n",
       "    </tr>\n",
       "  </thead>\n",
       "  <tbody>\n",
       "    <tr>\n",
       "      <th>0</th>\n",
       "      <td>http://www.polyvore.com/cgi/home?id=1389651</td>\n",
       "      <td>{\"title\":\"Join Polyvore and follow the latest ...</td>\n",
       "      <td>NaN</td>\n",
       "      <td>NaN</td>\n",
       "      <td>1.916667</td>\n",
       "      <td>0.047619</td>\n",
       "      <td>0.007937</td>\n",
       "      <td>0.000000</td>\n",
       "      <td>0.000000</td>\n",
       "      <td>0.803797</td>\n",
       "      <td>...</td>\n",
       "      <td>0</td>\n",
       "      <td>34</td>\n",
       "      <td>0.0</td>\n",
       "      <td>682</td>\n",
       "      <td>126</td>\n",
       "      <td>1</td>\n",
       "      <td>0.531746</td>\n",
       "      <td>0.142857</td>\n",
       "      <td>1</td>\n",
       "      <td>3711</td>\n",
       "    </tr>\n",
       "    <tr>\n",
       "      <th>1</th>\n",
       "      <td>http://www.youtube.com/watch?v=ippMPPu6gh4</td>\n",
       "      <td>{\"body\":\"Speed Air Man--David Belle david bell...</td>\n",
       "      <td>NaN</td>\n",
       "      <td>NaN</td>\n",
       "      <td>1.257576</td>\n",
       "      <td>0.141026</td>\n",
       "      <td>0.000000</td>\n",
       "      <td>0.000000</td>\n",
       "      <td>0.000000</td>\n",
       "      <td>1.142857</td>\n",
       "      <td>...</td>\n",
       "      <td>0</td>\n",
       "      <td>12</td>\n",
       "      <td>0.0</td>\n",
       "      <td>3008</td>\n",
       "      <td>78</td>\n",
       "      <td>1</td>\n",
       "      <td>0.628205</td>\n",
       "      <td>0.000000</td>\n",
       "      <td>1</td>\n",
       "      <td>7222</td>\n",
       "    </tr>\n",
       "    <tr>\n",
       "      <th>2</th>\n",
       "      <td>http://www.musingsofahousewife.com/2011/03/tri...</td>\n",
       "      <td>{\"title\":\"Chicken Gruyere Recipe \",\"body\":\"Chi...</td>\n",
       "      <td>science_technology</td>\n",
       "      <td>0.386685</td>\n",
       "      <td>2.024000</td>\n",
       "      <td>0.630350</td>\n",
       "      <td>0.284047</td>\n",
       "      <td>0.233463</td>\n",
       "      <td>0.202335</td>\n",
       "      <td>0.443409</td>\n",
       "      <td>...</td>\n",
       "      <td>1</td>\n",
       "      <td>17</td>\n",
       "      <td>0.0</td>\n",
       "      <td>11008</td>\n",
       "      <td>257</td>\n",
       "      <td>5</td>\n",
       "      <td>0.466926</td>\n",
       "      <td>0.062500</td>\n",
       "      <td>1</td>\n",
       "      <td>3964</td>\n",
       "    </tr>\n",
       "    <tr>\n",
       "      <th>3</th>\n",
       "      <td>http://www.thelittleteochew.com/2011/07/ikan-b...</td>\n",
       "      <td>{\"title\":\"Ikan Bilis With Tempeh Groundnuts \",...</td>\n",
       "      <td>recreation</td>\n",
       "      <td>0.475039</td>\n",
       "      <td>1.665254</td>\n",
       "      <td>0.419580</td>\n",
       "      <td>0.199301</td>\n",
       "      <td>0.097902</td>\n",
       "      <td>0.066434</td>\n",
       "      <td>0.472649</td>\n",
       "      <td>...</td>\n",
       "      <td>1</td>\n",
       "      <td>28</td>\n",
       "      <td>0.0</td>\n",
       "      <td>4585</td>\n",
       "      <td>286</td>\n",
       "      <td>5</td>\n",
       "      <td>0.244755</td>\n",
       "      <td>0.085868</td>\n",
       "      <td>1</td>\n",
       "      <td>3697</td>\n",
       "    </tr>\n",
       "    <tr>\n",
       "      <th>4</th>\n",
       "      <td>http://recipes.wuzzle.org/index.php/72</td>\n",
       "      <td>{\"url\":\"recipes wuzzle org index php 72\",\"titl...</td>\n",
       "      <td>computer_internet</td>\n",
       "      <td>0.535009</td>\n",
       "      <td>0.181818</td>\n",
       "      <td>0.036364</td>\n",
       "      <td>0.000000</td>\n",
       "      <td>0.000000</td>\n",
       "      <td>0.000000</td>\n",
       "      <td>0.292614</td>\n",
       "      <td>...</td>\n",
       "      <td>0</td>\n",
       "      <td>3</td>\n",
       "      <td>0.0</td>\n",
       "      <td>1745</td>\n",
       "      <td>55</td>\n",
       "      <td>1</td>\n",
       "      <td>0.072727</td>\n",
       "      <td>0.115044</td>\n",
       "      <td>1</td>\n",
       "      <td>4321</td>\n",
       "    </tr>\n",
       "  </tbody>\n",
       "</table>\n",
       "<p>5 rows × 27 columns</p>\n",
       "</div>"
      ],
      "text/plain": [
       "                                                 url  \\\n",
       "0        http://www.polyvore.com/cgi/home?id=1389651   \n",
       "1         http://www.youtube.com/watch?v=ippMPPu6gh4   \n",
       "2  http://www.musingsofahousewife.com/2011/03/tri...   \n",
       "3  http://www.thelittleteochew.com/2011/07/ikan-b...   \n",
       "4             http://recipes.wuzzle.org/index.php/72   \n",
       "\n",
       "                                  webpageDescription    alchemy_category  \\\n",
       "0  {\"title\":\"Join Polyvore and follow the latest ...                 NaN   \n",
       "1  {\"body\":\"Speed Air Man--David Belle david bell...                 NaN   \n",
       "2  {\"title\":\"Chicken Gruyere Recipe \",\"body\":\"Chi...  science_technology   \n",
       "3  {\"title\":\"Ikan Bilis With Tempeh Groundnuts \",...          recreation   \n",
       "4  {\"url\":\"recipes wuzzle org index php 72\",\"titl...   computer_internet   \n",
       "\n",
       "   alchemy_category_score  avgLinkWordLength  AvglinkWithOneCommonWord  \\\n",
       "0                     NaN           1.916667                  0.047619   \n",
       "1                     NaN           1.257576                  0.141026   \n",
       "2                0.386685           2.024000                  0.630350   \n",
       "3                0.475039           1.665254                  0.419580   \n",
       "4                0.535009           0.181818                  0.036364   \n",
       "\n",
       "   AvglinkWithTwoCommonWord  AvglinkWithThreeCommonWord  \\\n",
       "0                  0.007937                    0.000000   \n",
       "1                  0.000000                    0.000000   \n",
       "2                  0.284047                    0.233463   \n",
       "3                  0.199301                    0.097902   \n",
       "4                  0.000000                    0.000000   \n",
       "\n",
       "   AvglinkWithFourCommonWord  redundancyMeasure  ...  lengthyDomain  \\\n",
       "0                   0.000000           0.803797  ...              0   \n",
       "1                   0.000000           1.142857  ...              0   \n",
       "2                   0.202335           0.443409  ...              1   \n",
       "3                   0.066434           0.472649  ...              1   \n",
       "4                   0.000000           0.292614  ...              0   \n",
       "\n",
       "   hyperlinkToAllWordsRatio  isFrontPageNews  alphanumCharCount  linksCount  \\\n",
       "0                        34              0.0                682         126   \n",
       "1                        12              0.0               3008          78   \n",
       "2                        17              0.0              11008         257   \n",
       "3                        28              0.0               4585         286   \n",
       "4                         3              0.0               1745          55   \n",
       "\n",
       "   wordCount  parametrizedLinkRatio  spellingErrorsRatio  label    id  \n",
       "0          1               0.531746             0.142857      1  3711  \n",
       "1          1               0.628205             0.000000      1  7222  \n",
       "2          5               0.466926             0.062500      1  3964  \n",
       "3          5               0.244755             0.085868      1  3697  \n",
       "4          1               0.072727             0.115044      1  4321  \n",
       "\n",
       "[5 rows x 27 columns]"
      ]
     },
     "execution_count": 10,
     "metadata": {},
     "output_type": "execute_result"
    }
   ],
   "source": [
    "\n",
    "data.head()"
   ]
  },
  {
   "cell_type": "code",
   "execution_count": 11,
   "metadata": {
    "ExecuteTime": {
     "end_time": "2021-12-05T06:55:44.008190Z",
     "start_time": "2021-12-05T06:55:44.005454Z"
    },
    "colab": {
     "base_uri": "https://localhost:8080/"
    },
    "id": "_i5t55Dlw7-N",
    "outputId": "252380ab-4743-4551-9786-165ad9a808e2"
   },
   "outputs": [
    {
     "data": {
      "text/plain": [
       "(5916, 27)"
      ]
     },
     "execution_count": 11,
     "metadata": {},
     "output_type": "execute_result"
    }
   ],
   "source": [
    "data.shape"
   ]
  },
  {
   "cell_type": "code",
   "execution_count": 12,
   "metadata": {
    "ExecuteTime": {
     "end_time": "2021-12-05T06:55:44.174499Z",
     "start_time": "2021-12-05T06:55:44.165462Z"
    },
    "colab": {
     "base_uri": "https://localhost:8080/"
    },
    "id": "38wevWqMpnqW",
    "outputId": "7b675cf1-0a41-4fb6-c183-ddd1a827b00e"
   },
   "outputs": [
    {
     "data": {
      "text/plain": [
       "url                           5916\n",
       "webpageDescription            5916\n",
       "alchemy_category              4033\n",
       "alchemy_category_score        4033\n",
       "avgLinkWordLength             5916\n",
       "AvglinkWithOneCommonWord      5916\n",
       "AvglinkWithTwoCommonWord      5916\n",
       "AvglinkWithThreeCommonWord    5916\n",
       "AvglinkWithFourCommonWord     5916\n",
       "redundancyMeasure             5916\n",
       "embedRatio                    5916\n",
       "framebased                    5916\n",
       "frameTagRatio                 5916\n",
       "domainLink                    5916\n",
       "tagRatio                      5916\n",
       "imageTagRatio                 5916\n",
       "isNews                        3647\n",
       "lengthyDomain                 5916\n",
       "hyperlinkToAllWordsRatio      5916\n",
       "isFrontPageNews               4910\n",
       "alphanumCharCount             5916\n",
       "linksCount                    5916\n",
       "wordCount                     5916\n",
       "parametrizedLinkRatio         5916\n",
       "spellingErrorsRatio           5916\n",
       "label                         5916\n",
       "id                            5916\n",
       "dtype: int64"
      ]
     },
     "execution_count": 12,
     "metadata": {},
     "output_type": "execute_result"
    }
   ],
   "source": [
    "data.count()"
   ]
  },
  {
   "cell_type": "code",
   "execution_count": 13,
   "metadata": {
    "ExecuteTime": {
     "end_time": "2021-12-05T06:55:44.343523Z",
     "start_time": "2021-12-05T06:55:44.337082Z"
    },
    "colab": {
     "base_uri": "https://localhost:8080/"
    },
    "id": "hbg4JFnfrUfF",
    "outputId": "fe2fc881-e887-4544-d0fe-baf9e1601b42"
   },
   "outputs": [
    {
     "data": {
      "text/plain": [
       "url                              0\n",
       "webpageDescription               0\n",
       "alchemy_category              1883\n",
       "alchemy_category_score        1883\n",
       "avgLinkWordLength                0\n",
       "AvglinkWithOneCommonWord         0\n",
       "AvglinkWithTwoCommonWord         0\n",
       "AvglinkWithThreeCommonWord       0\n",
       "AvglinkWithFourCommonWord        0\n",
       "redundancyMeasure                0\n",
       "embedRatio                       0\n",
       "framebased                       0\n",
       "frameTagRatio                    0\n",
       "domainLink                       0\n",
       "tagRatio                         0\n",
       "imageTagRatio                    0\n",
       "isNews                        2269\n",
       "lengthyDomain                    0\n",
       "hyperlinkToAllWordsRatio         0\n",
       "isFrontPageNews               1006\n",
       "alphanumCharCount                0\n",
       "linksCount                       0\n",
       "wordCount                        0\n",
       "parametrizedLinkRatio            0\n",
       "spellingErrorsRatio              0\n",
       "label                            0\n",
       "id                               0\n",
       "dtype: int64"
      ]
     },
     "execution_count": 13,
     "metadata": {},
     "output_type": "execute_result"
    }
   ],
   "source": [
    "data.isna().sum()"
   ]
  },
  {
   "cell_type": "code",
   "execution_count": 14,
   "metadata": {
    "ExecuteTime": {
     "end_time": "2021-12-05T06:55:44.497965Z",
     "start_time": "2021-12-05T06:55:44.491035Z"
    },
    "colab": {
     "base_uri": "https://localhost:8080/"
    },
    "id": "hQuNn9Qd7HtV",
    "outputId": "4d8a9fb2-cb13-4b80-b18a-648b5aa8466b"
   },
   "outputs": [
    {
     "data": {
      "text/plain": [
       "url                             0\n",
       "webpageDescription              0\n",
       "alchemy_category              459\n",
       "alchemy_category_score        459\n",
       "avgLinkWordLength               0\n",
       "AvglinkWithOneCommonWord        0\n",
       "AvglinkWithTwoCommonWord        0\n",
       "AvglinkWithThreeCommonWord      0\n",
       "AvglinkWithFourCommonWord       0\n",
       "redundancyMeasure               0\n",
       "embedRatio                      0\n",
       "framebased                      0\n",
       "frameTagRatio                   0\n",
       "domainLink                      0\n",
       "tagRatio                        0\n",
       "imageTagRatio                   0\n",
       "isNews                        574\n",
       "lengthyDomain                   0\n",
       "hyperlinkToAllWordsRatio        0\n",
       "isFrontPageNews               242\n",
       "alphanumCharCount               0\n",
       "linksCount                      0\n",
       "wordCount                       0\n",
       "parametrizedLinkRatio           0\n",
       "spellingErrorsRatio             0\n",
       "id                              0\n",
       "dtype: int64"
      ]
     },
     "execution_count": 14,
     "metadata": {},
     "output_type": "execute_result"
    }
   ],
   "source": [
    "test_data.isna().sum()"
   ]
  },
  {
   "cell_type": "code",
   "execution_count": 15,
   "metadata": {
    "ExecuteTime": {
     "end_time": "2021-12-05T06:55:44.665447Z",
     "start_time": "2021-12-05T06:55:44.659276Z"
    },
    "colab": {
     "base_uri": "https://localhost:8080/"
    },
    "id": "rvYc6mKRaj3f",
    "outputId": "78b5914c-5441-423b-8105-c59be285c774"
   },
   "outputs": [
    {
     "data": {
      "text/plain": [
       "pandas.core.frame.DataFrame"
      ]
     },
     "execution_count": 15,
     "metadata": {},
     "output_type": "execute_result"
    }
   ],
   "source": [
    "type(data[['webpageDescription']])"
   ]
  },
  {
   "cell_type": "code",
   "execution_count": null,
   "metadata": {
    "id": "--kzjzHlhRMc"
   },
   "outputs": [],
   "source": [
    "\n"
   ]
  },
  {
   "cell_type": "code",
   "execution_count": 16,
   "metadata": {
    "ExecuteTime": {
     "end_time": "2021-12-05T06:55:45.471368Z",
     "start_time": "2021-12-05T06:55:45.469361Z"
    },
    "id": "c-5LHxy4a8Qd"
   },
   "outputs": [],
   "source": [
    "webDesc=data['webpageDescription']"
   ]
  },
  {
   "cell_type": "code",
   "execution_count": 17,
   "metadata": {
    "ExecuteTime": {
     "end_time": "2021-12-05T06:55:45.519270Z",
     "start_time": "2021-12-05T06:55:45.513397Z"
    },
    "colab": {
     "base_uri": "https://localhost:8080/"
    },
    "id": "wdJmRuAJjoeR",
    "outputId": "8628171f-6e7c-4d14-b18f-e3723dd19814"
   },
   "outputs": [
    {
     "data": {
      "text/plain": [
       "0       {\"title\":\"Join Polyvore and follow the latest ...\n",
       "1       {\"body\":\"Speed Air Man--David Belle david bell...\n",
       "2       {\"title\":\"Chicken Gruyere Recipe \",\"body\":\"Chi...\n",
       "3       {\"title\":\"Ikan Bilis With Tempeh Groundnuts \",...\n",
       "4       {\"url\":\"recipes wuzzle org index php 72\",\"titl...\n",
       "                              ...                        \n",
       "5911    {\"title\":\"Diamonds Are A Girl s Best Hair Remo...\n",
       "5912    {\"title\":\"Man arrested for wearing POLICE t sh...\n",
       "5913    {\"title\":\"Cake Batter Truffles The Girl Who At...\n",
       "5914    {\"title\":\"Avocado Recipes California Avocado C...\n",
       "5915    {\"title\":\"Driving while inTEXTicated My Though...\n",
       "Name: webpageDescription, Length: 5916, dtype: object"
      ]
     },
     "execution_count": 17,
     "metadata": {},
     "output_type": "execute_result"
    }
   ],
   "source": [
    "webDesc"
   ]
  },
  {
   "cell_type": "code",
   "execution_count": 18,
   "metadata": {
    "ExecuteTime": {
     "end_time": "2021-12-05T06:55:45.566316Z",
     "start_time": "2021-12-05T06:55:45.562940Z"
    },
    "id": "EK2W-FaNi71_"
   },
   "outputs": [],
   "source": [
    "webDesc1=test_data['webpageDescription']"
   ]
  },
  {
   "cell_type": "code",
   "execution_count": 19,
   "metadata": {
    "ExecuteTime": {
     "end_time": "2021-12-05T06:55:45.595702Z",
     "start_time": "2021-12-05T06:55:45.591667Z"
    },
    "colab": {
     "base_uri": "https://localhost:8080/"
    },
    "id": "x7diyXrW8aS-",
    "outputId": "cea0d2f9-30e9-443b-cdc7-845b0169da26"
   },
   "outputs": [
    {
     "data": {
      "text/plain": [
       "0       {\"url\":\"ocweekly 2013 04 11 news deported mexi...\n",
       "1       {\"title\":\"10 Exotic Fruits Vegetables 10 exoti...\n",
       "2       {\"title\":\"Skinny German Chocolate Cookies \",\"b...\n",
       "3       {\"title\":\"Carpe Diem DrPullen com Medical and ...\n",
       "4       {\"title\":\"Brad Colbow Independent Web Designer...\n",
       "                              ...                        \n",
       "1474    {\"title\":\" \",\"body\":\" \",\"url\":\"lanascooking 20...\n",
       "1475    {\"title\":\"Billy s Chocolate Buttercream Martha...\n",
       "1476    {\"url\":\"laweekly bestof 2011 award best belly ...\n",
       "1477    {\"title\":\"Buffalo Chicken Burgers recipe buffa...\n",
       "1478    {\"title\":\"canarygirl com Sirloin with Pepperco...\n",
       "Name: webpageDescription, Length: 1479, dtype: object"
      ]
     },
     "execution_count": 19,
     "metadata": {},
     "output_type": "execute_result"
    }
   ],
   "source": [
    "webDesc1"
   ]
  },
  {
   "cell_type": "code",
   "execution_count": 20,
   "metadata": {
    "ExecuteTime": {
     "end_time": "2021-12-05T06:55:45.682481Z",
     "start_time": "2021-12-05T06:55:45.636622Z"
    },
    "id": "AjOQrINohq4J"
   },
   "outputs": [],
   "source": [
    "title=[]\n",
    "body=[]\n",
    "for i in webDesc:\n",
    "  dict = json.loads(i)\n",
    "  title.append(dict[\"title\"])\n",
    "  body.append(dict[\"body\"])\n",
    "  \n"
   ]
  },
  {
   "cell_type": "code",
   "execution_count": 21,
   "metadata": {
    "ExecuteTime": {
     "end_time": "2021-12-05T06:55:45.696566Z",
     "start_time": "2021-12-05T06:55:45.684920Z"
    },
    "id": "DDjdKVIJ7eDW"
   },
   "outputs": [],
   "source": [
    "test_title=[]\n",
    "test_body=[]\n",
    "for i in webDesc1:\n",
    "  dict1 = json.loads(i)\n",
    "  if \"title\" not in dict1:\n",
    "    test_title.append(None)\n",
    "  else:\n",
    "    test_title.append(dict1[\"title\"])\n",
    "  test_body.append(dict1[\"body\"])\n",
    "  \n"
   ]
  },
  {
   "cell_type": "code",
   "execution_count": 22,
   "metadata": {
    "ExecuteTime": {
     "end_time": "2021-12-05T06:55:45.712114Z",
     "start_time": "2021-12-05T06:55:45.708166Z"
    },
    "id": "GW4_au4Vk2um"
   },
   "outputs": [],
   "source": [
    "data.insert(2, \"title\", title, True)\n",
    "data.insert(2, \"body\", body, True)"
   ]
  },
  {
   "cell_type": "code",
   "execution_count": 23,
   "metadata": {
    "ExecuteTime": {
     "end_time": "2021-12-05T06:55:45.761490Z",
     "start_time": "2021-12-05T06:55:45.756885Z"
    },
    "id": "p2LNMJG2ASZI"
   },
   "outputs": [],
   "source": [
    "test_data.insert(2, \"title\", test_title, True)\n",
    "test_data.insert(2, \"body\", test_body, True)"
   ]
  },
  {
   "cell_type": "code",
   "execution_count": 24,
   "metadata": {
    "ExecuteTime": {
     "end_time": "2021-12-05T06:55:45.807273Z",
     "start_time": "2021-12-05T06:55:45.790531Z"
    },
    "colab": {
     "base_uri": "https://localhost:8080/",
     "height": 201
    },
    "id": "_-m4-FgyiGO8",
    "outputId": "bacb664c-7c92-41a2-b6dd-76c927a14def"
   },
   "outputs": [
    {
     "data": {
      "text/html": [
       "<div>\n",
       "<style scoped>\n",
       "    .dataframe tbody tr th:only-of-type {\n",
       "        vertical-align: middle;\n",
       "    }\n",
       "\n",
       "    .dataframe tbody tr th {\n",
       "        vertical-align: top;\n",
       "    }\n",
       "\n",
       "    .dataframe thead th {\n",
       "        text-align: right;\n",
       "    }\n",
       "</style>\n",
       "<table border=\"1\" class=\"dataframe\">\n",
       "  <thead>\n",
       "    <tr style=\"text-align: right;\">\n",
       "      <th></th>\n",
       "      <th>url</th>\n",
       "      <th>webpageDescription</th>\n",
       "      <th>body</th>\n",
       "      <th>title</th>\n",
       "      <th>alchemy_category</th>\n",
       "      <th>alchemy_category_score</th>\n",
       "      <th>avgLinkWordLength</th>\n",
       "      <th>AvglinkWithOneCommonWord</th>\n",
       "      <th>AvglinkWithTwoCommonWord</th>\n",
       "      <th>AvglinkWithThreeCommonWord</th>\n",
       "      <th>...</th>\n",
       "      <th>lengthyDomain</th>\n",
       "      <th>hyperlinkToAllWordsRatio</th>\n",
       "      <th>isFrontPageNews</th>\n",
       "      <th>alphanumCharCount</th>\n",
       "      <th>linksCount</th>\n",
       "      <th>wordCount</th>\n",
       "      <th>parametrizedLinkRatio</th>\n",
       "      <th>spellingErrorsRatio</th>\n",
       "      <th>label</th>\n",
       "      <th>id</th>\n",
       "    </tr>\n",
       "  </thead>\n",
       "  <tbody>\n",
       "    <tr>\n",
       "      <th>0</th>\n",
       "      <td>http://www.polyvore.com/cgi/home?id=1389651</td>\n",
       "      <td>{\"title\":\"Join Polyvore and follow the latest ...</td>\n",
       "      <td>polyvore is the best place to discover or sta...</td>\n",
       "      <td>Join Polyvore and follow the latest styles</td>\n",
       "      <td>NaN</td>\n",
       "      <td>NaN</td>\n",
       "      <td>1.916667</td>\n",
       "      <td>0.047619</td>\n",
       "      <td>0.007937</td>\n",
       "      <td>0.0</td>\n",
       "      <td>...</td>\n",
       "      <td>0</td>\n",
       "      <td>34</td>\n",
       "      <td>0.0</td>\n",
       "      <td>682</td>\n",
       "      <td>126</td>\n",
       "      <td>1</td>\n",
       "      <td>0.531746</td>\n",
       "      <td>0.142857</td>\n",
       "      <td>1</td>\n",
       "      <td>3711</td>\n",
       "    </tr>\n",
       "  </tbody>\n",
       "</table>\n",
       "<p>1 rows × 29 columns</p>\n",
       "</div>"
      ],
      "text/plain": [
       "                                           url  \\\n",
       "0  http://www.polyvore.com/cgi/home?id=1389651   \n",
       "\n",
       "                                  webpageDescription  \\\n",
       "0  {\"title\":\"Join Polyvore and follow the latest ...   \n",
       "\n",
       "                                                body  \\\n",
       "0   polyvore is the best place to discover or sta...   \n",
       "\n",
       "                                         title alchemy_category  \\\n",
       "0  Join Polyvore and follow the latest styles               NaN   \n",
       "\n",
       "   alchemy_category_score  avgLinkWordLength  AvglinkWithOneCommonWord  \\\n",
       "0                     NaN           1.916667                  0.047619   \n",
       "\n",
       "   AvglinkWithTwoCommonWord  AvglinkWithThreeCommonWord  ...  lengthyDomain  \\\n",
       "0                  0.007937                         0.0  ...              0   \n",
       "\n",
       "   hyperlinkToAllWordsRatio  isFrontPageNews  alphanumCharCount  linksCount  \\\n",
       "0                        34              0.0                682         126   \n",
       "\n",
       "   wordCount  parametrizedLinkRatio  spellingErrorsRatio  label    id  \n",
       "0          1               0.531746             0.142857      1  3711  \n",
       "\n",
       "[1 rows x 29 columns]"
      ]
     },
     "execution_count": 24,
     "metadata": {},
     "output_type": "execute_result"
    }
   ],
   "source": [
    "data.head(1)"
   ]
  },
  {
   "cell_type": "code",
   "execution_count": 25,
   "metadata": {
    "ExecuteTime": {
     "end_time": "2021-12-05T06:55:45.870438Z",
     "start_time": "2021-12-05T06:55:45.851688Z"
    },
    "colab": {
     "base_uri": "https://localhost:8080/",
     "height": 184
    },
    "id": "RmbBtl3jibn8",
    "outputId": "813205ee-5e6b-4a53-b9b3-ce135da636c1"
   },
   "outputs": [
    {
     "data": {
      "text/html": [
       "<div>\n",
       "<style scoped>\n",
       "    .dataframe tbody tr th:only-of-type {\n",
       "        vertical-align: middle;\n",
       "    }\n",
       "\n",
       "    .dataframe tbody tr th {\n",
       "        vertical-align: top;\n",
       "    }\n",
       "\n",
       "    .dataframe thead th {\n",
       "        text-align: right;\n",
       "    }\n",
       "</style>\n",
       "<table border=\"1\" class=\"dataframe\">\n",
       "  <thead>\n",
       "    <tr style=\"text-align: right;\">\n",
       "      <th></th>\n",
       "      <th>url</th>\n",
       "      <th>webpageDescription</th>\n",
       "      <th>body</th>\n",
       "      <th>title</th>\n",
       "      <th>alchemy_category</th>\n",
       "      <th>alchemy_category_score</th>\n",
       "      <th>avgLinkWordLength</th>\n",
       "      <th>AvglinkWithOneCommonWord</th>\n",
       "      <th>AvglinkWithTwoCommonWord</th>\n",
       "      <th>AvglinkWithThreeCommonWord</th>\n",
       "      <th>...</th>\n",
       "      <th>isNews</th>\n",
       "      <th>lengthyDomain</th>\n",
       "      <th>hyperlinkToAllWordsRatio</th>\n",
       "      <th>isFrontPageNews</th>\n",
       "      <th>alphanumCharCount</th>\n",
       "      <th>linksCount</th>\n",
       "      <th>wordCount</th>\n",
       "      <th>parametrizedLinkRatio</th>\n",
       "      <th>spellingErrorsRatio</th>\n",
       "      <th>id</th>\n",
       "    </tr>\n",
       "  </thead>\n",
       "  <tbody>\n",
       "    <tr>\n",
       "      <th>0</th>\n",
       "      <td>http://www.ocweekly.com/2013-04-11/news/deport...</td>\n",
       "      <td>{\"url\":\"ocweekly 2013 04 11 news deported mexi...</td>\n",
       "      <td>Decades later long after federal authorities d...</td>\n",
       "      <td>The Lost Mexicans of the Bastanchury Ranch Pag...</td>\n",
       "      <td>sports</td>\n",
       "      <td>0.300004</td>\n",
       "      <td>2.307692</td>\n",
       "      <td>0.424749</td>\n",
       "      <td>0.190635</td>\n",
       "      <td>0.036789</td>\n",
       "      <td>...</td>\n",
       "      <td>1.0</td>\n",
       "      <td>1</td>\n",
       "      <td>23</td>\n",
       "      <td>0.0</td>\n",
       "      <td>8670</td>\n",
       "      <td>299</td>\n",
       "      <td>9</td>\n",
       "      <td>0.397993</td>\n",
       "      <td>0.098242</td>\n",
       "      <td>7172</td>\n",
       "    </tr>\n",
       "  </tbody>\n",
       "</table>\n",
       "<p>1 rows × 28 columns</p>\n",
       "</div>"
      ],
      "text/plain": [
       "                                                 url  \\\n",
       "0  http://www.ocweekly.com/2013-04-11/news/deport...   \n",
       "\n",
       "                                  webpageDescription  \\\n",
       "0  {\"url\":\"ocweekly 2013 04 11 news deported mexi...   \n",
       "\n",
       "                                                body  \\\n",
       "0  Decades later long after federal authorities d...   \n",
       "\n",
       "                                               title alchemy_category  \\\n",
       "0  The Lost Mexicans of the Bastanchury Ranch Pag...           sports   \n",
       "\n",
       "   alchemy_category_score  avgLinkWordLength  AvglinkWithOneCommonWord  \\\n",
       "0                0.300004           2.307692                  0.424749   \n",
       "\n",
       "   AvglinkWithTwoCommonWord  AvglinkWithThreeCommonWord  ...  isNews  \\\n",
       "0                  0.190635                    0.036789  ...     1.0   \n",
       "\n",
       "   lengthyDomain  hyperlinkToAllWordsRatio  isFrontPageNews  \\\n",
       "0              1                        23              0.0   \n",
       "\n",
       "   alphanumCharCount  linksCount  wordCount  parametrizedLinkRatio  \\\n",
       "0               8670         299          9               0.397993   \n",
       "\n",
       "   spellingErrorsRatio    id  \n",
       "0             0.098242  7172  \n",
       "\n",
       "[1 rows x 28 columns]"
      ]
     },
     "execution_count": 25,
     "metadata": {},
     "output_type": "execute_result"
    }
   ],
   "source": [
    "test_data.head(1)"
   ]
  },
  {
   "cell_type": "code",
   "execution_count": 26,
   "metadata": {
    "ExecuteTime": {
     "end_time": "2021-12-05T06:55:45.891795Z",
     "start_time": "2021-12-05T06:55:45.887749Z"
    },
    "colab": {
     "base_uri": "https://localhost:8080/"
    },
    "id": "UoOFss4uDyI8",
    "outputId": "8bbf8309-719e-44b5-8bea-24169f1083e9"
   },
   "outputs": [
    {
     "data": {
      "text/plain": [
       "(5916, 29)"
      ]
     },
     "execution_count": 26,
     "metadata": {},
     "output_type": "execute_result"
    }
   ],
   "source": [
    "data.shape"
   ]
  },
  {
   "cell_type": "code",
   "execution_count": 27,
   "metadata": {
    "ExecuteTime": {
     "end_time": "2021-12-05T06:55:45.918815Z",
     "start_time": "2021-12-05T06:55:45.916374Z"
    },
    "colab": {
     "base_uri": "https://localhost:8080/"
    },
    "id": "Y0crss07DBoO",
    "outputId": "64b1deec-8ebc-48bb-d25b-c8595470f9eb"
   },
   "outputs": [
    {
     "data": {
      "text/plain": [
       "(1479, 28)"
      ]
     },
     "execution_count": 27,
     "metadata": {},
     "output_type": "execute_result"
    }
   ],
   "source": [
    "test_data.shape"
   ]
  },
  {
   "cell_type": "markdown",
   "metadata": {
    "id": "ClUZjpM4VTMd"
   },
   "source": [
    "Preprocessing"
   ]
  },
  {
   "cell_type": "code",
   "execution_count": 28,
   "metadata": {
    "ExecuteTime": {
     "end_time": "2021-12-05T06:55:46.011410Z",
     "start_time": "2021-12-05T06:55:46.007702Z"
    },
    "colab": {
     "base_uri": "https://localhost:8080/"
    },
    "id": "rSR6J95dVeCx",
    "outputId": "26f5ce0e-e4cf-493a-a06f-36f5ef973749"
   },
   "outputs": [
    {
     "name": "stdout",
     "output_type": "stream",
     "text": [
      "recreation            1014\n",
      "arts_entertainment     726\n",
      "business               712\n",
      "health                 392\n",
      "sports                 302\n",
      "culture_politics       268\n",
      "computer_internet      241\n",
      "science_technology     230\n",
      "gaming                  60\n",
      "religion                56\n",
      "law_crime               24\n",
      "unknown                  5\n",
      "weather                  3\n",
      "Name: alchemy_category, dtype: int64\n"
     ]
    }
   ],
   "source": [
    "print(data['alchemy_category'].value_counts())"
   ]
  },
  {
   "cell_type": "code",
   "execution_count": 29,
   "metadata": {
    "ExecuteTime": {
     "end_time": "2021-12-05T06:55:46.038618Z",
     "start_time": "2021-12-05T06:55:46.035091Z"
    },
    "colab": {
     "base_uri": "https://localhost:8080/"
    },
    "id": "yNlvvchMVeCx",
    "outputId": "5c739379-c3ab-4901-fef4-e9e0796411ba"
   },
   "outputs": [
    {
     "name": "stdout",
     "output_type": "stream",
     "text": [
      "1.0    3647\n",
      "Name: isNews, dtype: int64\n"
     ]
    }
   ],
   "source": [
    "print(data['isNews'].value_counts())"
   ]
  },
  {
   "cell_type": "code",
   "execution_count": 30,
   "metadata": {
    "ExecuteTime": {
     "end_time": "2021-12-05T06:55:46.083756Z",
     "start_time": "2021-12-05T06:55:46.078962Z"
    },
    "colab": {
     "base_uri": "https://localhost:8080/"
    },
    "id": "l5NLhhnPVeCx",
    "outputId": "9c14e320-ac32-411f-d464-a05107ea9f3c"
   },
   "outputs": [
    {
     "name": "stdout",
     "output_type": "stream",
     "text": [
      "1.0    905\n",
      "Name: isNews, dtype: int64\n"
     ]
    }
   ],
   "source": [
    "print(test_data['isNews'].value_counts())"
   ]
  },
  {
   "cell_type": "code",
   "execution_count": 31,
   "metadata": {
    "ExecuteTime": {
     "end_time": "2021-12-05T06:55:46.134326Z",
     "start_time": "2021-12-05T06:55:46.129495Z"
    },
    "colab": {
     "base_uri": "https://localhost:8080/"
    },
    "id": "dISHBa4rVeCx",
    "outputId": "4e7afc87-9961-430b-cdd8-ee9a4681c5a9"
   },
   "outputs": [
    {
     "name": "stdout",
     "output_type": "stream",
     "text": [
      "0.0    4677\n",
      "1.0     233\n",
      "Name: isFrontPageNews, dtype: int64\n"
     ]
    }
   ],
   "source": [
    "print(data['isFrontPageNews'].value_counts())"
   ]
  },
  {
   "cell_type": "code",
   "execution_count": 32,
   "metadata": {
    "ExecuteTime": {
     "end_time": "2021-12-05T06:55:46.161764Z",
     "start_time": "2021-12-05T06:55:46.158715Z"
    },
    "colab": {
     "base_uri": "https://localhost:8080/"
    },
    "id": "VvxxH36-VeCy",
    "outputId": "6a64c12b-e3b7-4f9d-d6ec-2eb1b5e11569"
   },
   "outputs": [
    {
     "name": "stdout",
     "output_type": "stream",
     "text": [
      "0.0    1176\n",
      "1.0      61\n",
      "Name: isFrontPageNews, dtype: int64\n"
     ]
    }
   ],
   "source": [
    "print(test_data['isFrontPageNews'].value_counts())"
   ]
  },
  {
   "cell_type": "code",
   "execution_count": 33,
   "metadata": {
    "ExecuteTime": {
     "end_time": "2021-12-05T06:55:46.206187Z",
     "start_time": "2021-12-05T06:55:46.196863Z"
    },
    "id": "ufAQs4IiVeCy"
   },
   "outputs": [],
   "source": [
    "data.drop(labels=\"isNews\",axis=1,inplace=True)\n",
    "test_data.drop(labels=\"isNews\",axis=1,inplace=True)"
   ]
  },
  {
   "cell_type": "code",
   "execution_count": 34,
   "metadata": {
    "ExecuteTime": {
     "end_time": "2021-12-05T06:55:46.242863Z",
     "start_time": "2021-12-05T06:55:46.239493Z"
    },
    "id": "0ZtfVYlRVeCy"
   },
   "outputs": [],
   "source": [
    "data['isFrontPageNews']=data['isFrontPageNews'].fillna(0.0)\n",
    "test_data['isFrontPageNews']=test_data['isFrontPageNews'].fillna(0.0)"
   ]
  },
  {
   "cell_type": "code",
   "execution_count": 35,
   "metadata": {
    "ExecuteTime": {
     "end_time": "2021-12-05T06:55:46.289159Z",
     "start_time": "2021-12-05T06:55:46.276081Z"
    },
    "colab": {
     "base_uri": "https://localhost:8080/"
    },
    "id": "SoatjXdRVeCy",
    "outputId": "46cc5c16-b127-4452-d590-11058e47cd0e"
   },
   "outputs": [
    {
     "name": "stdout",
     "output_type": "stream",
     "text": [
      "<class 'pandas.core.frame.DataFrame'>\n",
      "RangeIndex: 5916 entries, 0 to 5915\n",
      "Data columns (total 28 columns):\n",
      " #   Column                      Non-Null Count  Dtype  \n",
      "---  ------                      --------------  -----  \n",
      " 0   url                         5916 non-null   object \n",
      " 1   webpageDescription          5916 non-null   object \n",
      " 2   body                        5865 non-null   object \n",
      " 3   title                       5905 non-null   object \n",
      " 4   alchemy_category            4033 non-null   object \n",
      " 5   alchemy_category_score      4033 non-null   float64\n",
      " 6   avgLinkWordLength           5916 non-null   float64\n",
      " 7   AvglinkWithOneCommonWord    5916 non-null   float64\n",
      " 8   AvglinkWithTwoCommonWord    5916 non-null   float64\n",
      " 9   AvglinkWithThreeCommonWord  5916 non-null   float64\n",
      " 10  AvglinkWithFourCommonWord   5916 non-null   float64\n",
      " 11  redundancyMeasure           5916 non-null   float64\n",
      " 12  embedRatio                  5916 non-null   float64\n",
      " 13  framebased                  5916 non-null   int64  \n",
      " 14  frameTagRatio               5916 non-null   float64\n",
      " 15  domainLink                  5916 non-null   int64  \n",
      " 16  tagRatio                    5916 non-null   float64\n",
      " 17  imageTagRatio               5916 non-null   float64\n",
      " 18  lengthyDomain               5916 non-null   int64  \n",
      " 19  hyperlinkToAllWordsRatio    5916 non-null   int64  \n",
      " 20  isFrontPageNews             5916 non-null   float64\n",
      " 21  alphanumCharCount           5916 non-null   int64  \n",
      " 22  linksCount                  5916 non-null   int64  \n",
      " 23  wordCount                   5916 non-null   int64  \n",
      " 24  parametrizedLinkRatio       5916 non-null   float64\n",
      " 25  spellingErrorsRatio         5916 non-null   float64\n",
      " 26  label                       5916 non-null   int64  \n",
      " 27  id                          5916 non-null   int64  \n",
      "dtypes: float64(14), int64(9), object(5)\n",
      "memory usage: 1.3+ MB\n"
     ]
    }
   ],
   "source": [
    "data.info()"
   ]
  },
  {
   "cell_type": "code",
   "execution_count": 36,
   "metadata": {
    "ExecuteTime": {
     "end_time": "2021-12-05T06:55:46.320381Z",
     "start_time": "2021-12-05T06:55:46.317763Z"
    },
    "id": "eY_FlxVWXtjZ"
   },
   "outputs": [],
   "source": [
    "x=(data['alchemy_category_score'].mean()+test_data['alchemy_category_score'].mean())/2"
   ]
  },
  {
   "cell_type": "code",
   "execution_count": 37,
   "metadata": {
    "ExecuteTime": {
     "end_time": "2021-12-05T06:55:46.357142Z",
     "start_time": "2021-12-05T06:55:46.354806Z"
    },
    "colab": {
     "base_uri": "https://localhost:8080/"
    },
    "id": "qd1bQgbvXtjZ",
    "outputId": "dd07a56f-e225-46b7-c986-a9f7c14d25c1"
   },
   "outputs": [
    {
     "name": "stdout",
     "output_type": "stream",
     "text": [
      "0.6054794336450875\n"
     ]
    }
   ],
   "source": [
    "print(x)"
   ]
  },
  {
   "cell_type": "code",
   "execution_count": 38,
   "metadata": {
    "ExecuteTime": {
     "end_time": "2021-12-05T06:55:46.401811Z",
     "start_time": "2021-12-05T06:55:46.397255Z"
    },
    "id": "aoYsr15-XtjZ"
   },
   "outputs": [],
   "source": [
    "data['alchemy_category_score']=data['alchemy_category_score'].fillna(x)\n",
    "test_data['alchemy_category_score']=test_data['alchemy_category_score'].fillna(x)"
   ]
  },
  {
   "cell_type": "code",
   "execution_count": 39,
   "metadata": {
    "ExecuteTime": {
     "end_time": "2021-12-05T06:55:46.462560Z",
     "start_time": "2021-12-05T06:55:46.454521Z"
    },
    "id": "KTSxu2MFXtjZ"
   },
   "outputs": [],
   "source": [
    "data['alchemy_category']=data['alchemy_category'].fillna(\"other\")\n",
    "test_data['alchemy_category']=test_data['alchemy_category'].fillna(\"other\")"
   ]
  },
  {
   "cell_type": "code",
   "execution_count": 40,
   "metadata": {
    "ExecuteTime": {
     "end_time": "2021-12-05T06:55:46.516512Z",
     "start_time": "2021-12-05T06:55:46.500232Z"
    },
    "colab": {
     "base_uri": "https://localhost:8080/",
     "height": 201
    },
    "id": "QZUqO-TIXtja",
    "outputId": "c5189ffa-f4c8-46aa-e762-6942d283b003"
   },
   "outputs": [
    {
     "data": {
      "text/html": [
       "<div>\n",
       "<style scoped>\n",
       "    .dataframe tbody tr th:only-of-type {\n",
       "        vertical-align: middle;\n",
       "    }\n",
       "\n",
       "    .dataframe tbody tr th {\n",
       "        vertical-align: top;\n",
       "    }\n",
       "\n",
       "    .dataframe thead th {\n",
       "        text-align: right;\n",
       "    }\n",
       "</style>\n",
       "<table border=\"1\" class=\"dataframe\">\n",
       "  <thead>\n",
       "    <tr style=\"text-align: right;\">\n",
       "      <th></th>\n",
       "      <th>url</th>\n",
       "      <th>webpageDescription</th>\n",
       "      <th>body</th>\n",
       "      <th>title</th>\n",
       "      <th>alchemy_category</th>\n",
       "      <th>alchemy_category_score</th>\n",
       "      <th>avgLinkWordLength</th>\n",
       "      <th>AvglinkWithOneCommonWord</th>\n",
       "      <th>AvglinkWithTwoCommonWord</th>\n",
       "      <th>AvglinkWithThreeCommonWord</th>\n",
       "      <th>...</th>\n",
       "      <th>lengthyDomain</th>\n",
       "      <th>hyperlinkToAllWordsRatio</th>\n",
       "      <th>isFrontPageNews</th>\n",
       "      <th>alphanumCharCount</th>\n",
       "      <th>linksCount</th>\n",
       "      <th>wordCount</th>\n",
       "      <th>parametrizedLinkRatio</th>\n",
       "      <th>spellingErrorsRatio</th>\n",
       "      <th>label</th>\n",
       "      <th>id</th>\n",
       "    </tr>\n",
       "  </thead>\n",
       "  <tbody>\n",
       "    <tr>\n",
       "      <th>0</th>\n",
       "      <td>http://www.polyvore.com/cgi/home?id=1389651</td>\n",
       "      <td>{\"title\":\"Join Polyvore and follow the latest ...</td>\n",
       "      <td>polyvore is the best place to discover or sta...</td>\n",
       "      <td>Join Polyvore and follow the latest styles</td>\n",
       "      <td>other</td>\n",
       "      <td>0.605479</td>\n",
       "      <td>1.916667</td>\n",
       "      <td>0.047619</td>\n",
       "      <td>0.007937</td>\n",
       "      <td>0.0</td>\n",
       "      <td>...</td>\n",
       "      <td>0</td>\n",
       "      <td>34</td>\n",
       "      <td>0.0</td>\n",
       "      <td>682</td>\n",
       "      <td>126</td>\n",
       "      <td>1</td>\n",
       "      <td>0.531746</td>\n",
       "      <td>0.142857</td>\n",
       "      <td>1</td>\n",
       "      <td>3711</td>\n",
       "    </tr>\n",
       "  </tbody>\n",
       "</table>\n",
       "<p>1 rows × 28 columns</p>\n",
       "</div>"
      ],
      "text/plain": [
       "                                           url  \\\n",
       "0  http://www.polyvore.com/cgi/home?id=1389651   \n",
       "\n",
       "                                  webpageDescription  \\\n",
       "0  {\"title\":\"Join Polyvore and follow the latest ...   \n",
       "\n",
       "                                                body  \\\n",
       "0   polyvore is the best place to discover or sta...   \n",
       "\n",
       "                                         title alchemy_category  \\\n",
       "0  Join Polyvore and follow the latest styles             other   \n",
       "\n",
       "   alchemy_category_score  avgLinkWordLength  AvglinkWithOneCommonWord  \\\n",
       "0                0.605479           1.916667                  0.047619   \n",
       "\n",
       "   AvglinkWithTwoCommonWord  AvglinkWithThreeCommonWord  ...  lengthyDomain  \\\n",
       "0                  0.007937                         0.0  ...              0   \n",
       "\n",
       "   hyperlinkToAllWordsRatio  isFrontPageNews  alphanumCharCount  linksCount  \\\n",
       "0                        34              0.0                682         126   \n",
       "\n",
       "   wordCount  parametrizedLinkRatio  spellingErrorsRatio  label    id  \n",
       "0          1               0.531746             0.142857      1  3711  \n",
       "\n",
       "[1 rows x 28 columns]"
      ]
     },
     "execution_count": 40,
     "metadata": {},
     "output_type": "execute_result"
    }
   ],
   "source": [
    "data.head(1)"
   ]
  },
  {
   "cell_type": "markdown",
   "metadata": {
    "id": "OFSr-ND3Xtja"
   },
   "source": [
    "One-hot encoding"
   ]
  },
  {
   "cell_type": "code",
   "execution_count": 41,
   "metadata": {
    "ExecuteTime": {
     "end_time": "2021-12-05T06:55:46.576337Z",
     "start_time": "2021-12-05T06:55:46.571545Z"
    },
    "colab": {
     "base_uri": "https://localhost:8080/"
    },
    "id": "Ki0wO4x4Xtja",
    "outputId": "0a555c82-79f5-402a-d3e2-c8d4c0218dc7"
   },
   "outputs": [
    {
     "data": {
      "text/plain": [
       "array(['other', 'science_technology', 'recreation', 'computer_internet',\n",
       "       'health', 'arts_entertainment', 'culture_politics', 'business',\n",
       "       'sports', 'gaming', 'law_crime', 'weather', 'religion', 'unknown'],\n",
       "      dtype=object)"
      ]
     },
     "execution_count": 41,
     "metadata": {},
     "output_type": "execute_result"
    }
   ],
   "source": [
    "data[\"alchemy_category\"].unique()"
   ]
  },
  {
   "cell_type": "code",
   "execution_count": 42,
   "metadata": {
    "ExecuteTime": {
     "end_time": "2021-12-05T06:55:46.620801Z",
     "start_time": "2021-12-05T06:55:46.608680Z"
    },
    "id": "-IAHx_zoXtja"
   },
   "outputs": [],
   "source": [
    "column_names_to_one_hot = [\"alchemy_category\"]\n",
    "data = pd.get_dummies(data, columns=column_names_to_one_hot)\n",
    "test_data = pd.get_dummies(test_data, columns=column_names_to_one_hot)"
   ]
  },
  {
   "cell_type": "code",
   "execution_count": 43,
   "metadata": {
    "ExecuteTime": {
     "end_time": "2021-12-05T06:55:46.639296Z",
     "start_time": "2021-12-05T06:55:46.636472Z"
    },
    "colab": {
     "base_uri": "https://localhost:8080/"
    },
    "id": "Kx8AL1T7Xtja",
    "outputId": "01c72edf-88ed-4265-fa6c-c5e66c85b040"
   },
   "outputs": [
    {
     "data": {
      "text/plain": [
       "Index(['url', 'webpageDescription', 'body', 'title', 'alchemy_category_score',\n",
       "       'avgLinkWordLength', 'AvglinkWithOneCommonWord',\n",
       "       'AvglinkWithTwoCommonWord', 'AvglinkWithThreeCommonWord',\n",
       "       'AvglinkWithFourCommonWord', 'redundancyMeasure', 'embedRatio',\n",
       "       'framebased', 'frameTagRatio', 'domainLink', 'tagRatio',\n",
       "       'imageTagRatio', 'lengthyDomain', 'hyperlinkToAllWordsRatio',\n",
       "       'isFrontPageNews', 'alphanumCharCount', 'linksCount', 'wordCount',\n",
       "       'parametrizedLinkRatio', 'spellingErrorsRatio', 'label', 'id',\n",
       "       'alchemy_category_arts_entertainment', 'alchemy_category_business',\n",
       "       'alchemy_category_computer_internet',\n",
       "       'alchemy_category_culture_politics', 'alchemy_category_gaming',\n",
       "       'alchemy_category_health', 'alchemy_category_law_crime',\n",
       "       'alchemy_category_other', 'alchemy_category_recreation',\n",
       "       'alchemy_category_religion', 'alchemy_category_science_technology',\n",
       "       'alchemy_category_sports', 'alchemy_category_unknown',\n",
       "       'alchemy_category_weather'],\n",
       "      dtype='object')"
      ]
     },
     "execution_count": 43,
     "metadata": {},
     "output_type": "execute_result"
    }
   ],
   "source": [
    "data.columns"
   ]
  },
  {
   "cell_type": "code",
   "execution_count": 44,
   "metadata": {
    "ExecuteTime": {
     "end_time": "2021-12-05T06:55:46.694095Z",
     "start_time": "2021-12-05T06:55:46.689688Z"
    },
    "colab": {
     "base_uri": "https://localhost:8080/"
    },
    "id": "sYRl1vXlXtja",
    "outputId": "abc08efa-ba58-413d-ed39-4e99759a7ec8"
   },
   "outputs": [
    {
     "data": {
      "text/plain": [
       "array([0])"
      ]
     },
     "execution_count": 44,
     "metadata": {},
     "output_type": "execute_result"
    }
   ],
   "source": [
    "data[\"framebased\"].unique() #it has single value so we can remove this column"
   ]
  },
  {
   "cell_type": "code",
   "execution_count": 45,
   "metadata": {
    "ExecuteTime": {
     "end_time": "2021-12-05T06:55:46.732844Z",
     "start_time": "2021-12-05T06:55:46.724104Z"
    },
    "id": "Oc1wq9NAXtja"
   },
   "outputs": [],
   "source": [
    "data.drop(labels=\"framebased\",axis=1,inplace=True)\n",
    "test_data.drop(labels=\"framebased\",axis=1,inplace=True)"
   ]
  },
  {
   "cell_type": "code",
   "execution_count": null,
   "metadata": {
    "id": "JuMOfCNQXtjb"
   },
   "outputs": [],
   "source": []
  },
  {
   "cell_type": "code",
   "execution_count": 46,
   "metadata": {
    "ExecuteTime": {
     "end_time": "2021-12-05T06:55:47.070171Z",
     "start_time": "2021-12-05T06:55:47.063211Z"
    },
    "colab": {
     "base_uri": "https://localhost:8080/"
    },
    "id": "0g4VdZI8Xtjb",
    "outputId": "9030b1c4-5e93-4493-f343-13ba1adcf375"
   },
   "outputs": [
    {
     "data": {
      "text/plain": [
       "array([0, 1])"
      ]
     },
     "execution_count": 46,
     "metadata": {},
     "output_type": "execute_result"
    }
   ],
   "source": [
    "data[\"domainLink\"].unique()"
   ]
  },
  {
   "cell_type": "code",
   "execution_count": 47,
   "metadata": {
    "ExecuteTime": {
     "end_time": "2021-12-05T06:55:47.237185Z",
     "start_time": "2021-12-05T06:55:47.228249Z"
    },
    "colab": {
     "base_uri": "https://localhost:8080/"
    },
    "id": "iL0ukLNTXtjb",
    "outputId": "d9260ff8-47bb-4aaf-b8b4-bcfb6c676496"
   },
   "outputs": [
    {
     "data": {
      "text/plain": [
       "1    3060\n",
       "0    2856\n",
       "Name: label, dtype: int64"
      ]
     },
     "execution_count": 47,
     "metadata": {},
     "output_type": "execute_result"
    }
   ],
   "source": [
    "data[\"label\"].value_counts()"
   ]
  },
  {
   "cell_type": "code",
   "execution_count": 48,
   "metadata": {
    "ExecuteTime": {
     "end_time": "2021-12-05T06:55:47.397257Z",
     "start_time": "2021-12-05T06:55:47.388783Z"
    },
    "colab": {
     "base_uri": "https://localhost:8080/"
    },
    "id": "rownNwPxYUHK",
    "outputId": "623a7430-fd18-4437-8ecd-22edada144da"
   },
   "outputs": [
    {
     "data": {
      "text/plain": [
       "url                                     0\n",
       "webpageDescription                      0\n",
       "body                                   51\n",
       "title                                  11\n",
       "alchemy_category_score                  0\n",
       "avgLinkWordLength                       0\n",
       "AvglinkWithOneCommonWord                0\n",
       "AvglinkWithTwoCommonWord                0\n",
       "AvglinkWithThreeCommonWord              0\n",
       "AvglinkWithFourCommonWord               0\n",
       "redundancyMeasure                       0\n",
       "embedRatio                              0\n",
       "frameTagRatio                           0\n",
       "domainLink                              0\n",
       "tagRatio                                0\n",
       "imageTagRatio                           0\n",
       "lengthyDomain                           0\n",
       "hyperlinkToAllWordsRatio                0\n",
       "isFrontPageNews                         0\n",
       "alphanumCharCount                       0\n",
       "linksCount                              0\n",
       "wordCount                               0\n",
       "parametrizedLinkRatio                   0\n",
       "spellingErrorsRatio                     0\n",
       "label                                   0\n",
       "id                                      0\n",
       "alchemy_category_arts_entertainment     0\n",
       "alchemy_category_business               0\n",
       "alchemy_category_computer_internet      0\n",
       "alchemy_category_culture_politics       0\n",
       "alchemy_category_gaming                 0\n",
       "alchemy_category_health                 0\n",
       "alchemy_category_law_crime              0\n",
       "alchemy_category_other                  0\n",
       "alchemy_category_recreation             0\n",
       "alchemy_category_religion               0\n",
       "alchemy_category_science_technology     0\n",
       "alchemy_category_sports                 0\n",
       "alchemy_category_unknown                0\n",
       "alchemy_category_weather                0\n",
       "dtype: int64"
      ]
     },
     "execution_count": 48,
     "metadata": {},
     "output_type": "execute_result"
    }
   ],
   "source": [
    "data.isna().sum()"
   ]
  },
  {
   "cell_type": "code",
   "execution_count": 49,
   "metadata": {
    "ExecuteTime": {
     "end_time": "2021-12-05T06:55:47.560649Z",
     "start_time": "2021-12-05T06:55:47.549385Z"
    },
    "colab": {
     "base_uri": "https://localhost:8080/"
    },
    "id": "95yQOoWGYdQg",
    "outputId": "cd6fdc94-960b-4a2c-b529-b688cea9562b"
   },
   "outputs": [
    {
     "data": {
      "text/plain": [
       "url                                    0\n",
       "webpageDescription                     0\n",
       "body                                   6\n",
       "title                                  2\n",
       "alchemy_category_score                 0\n",
       "avgLinkWordLength                      0\n",
       "AvglinkWithOneCommonWord               0\n",
       "AvglinkWithTwoCommonWord               0\n",
       "AvglinkWithThreeCommonWord             0\n",
       "AvglinkWithFourCommonWord              0\n",
       "redundancyMeasure                      0\n",
       "embedRatio                             0\n",
       "frameTagRatio                          0\n",
       "domainLink                             0\n",
       "tagRatio                               0\n",
       "imageTagRatio                          0\n",
       "lengthyDomain                          0\n",
       "hyperlinkToAllWordsRatio               0\n",
       "isFrontPageNews                        0\n",
       "alphanumCharCount                      0\n",
       "linksCount                             0\n",
       "wordCount                              0\n",
       "parametrizedLinkRatio                  0\n",
       "spellingErrorsRatio                    0\n",
       "id                                     0\n",
       "alchemy_category_arts_entertainment    0\n",
       "alchemy_category_business              0\n",
       "alchemy_category_computer_internet     0\n",
       "alchemy_category_culture_politics      0\n",
       "alchemy_category_gaming                0\n",
       "alchemy_category_health                0\n",
       "alchemy_category_law_crime             0\n",
       "alchemy_category_other                 0\n",
       "alchemy_category_recreation            0\n",
       "alchemy_category_religion              0\n",
       "alchemy_category_science_technology    0\n",
       "alchemy_category_sports                0\n",
       "alchemy_category_unknown               0\n",
       "alchemy_category_weather               0\n",
       "dtype: int64"
      ]
     },
     "execution_count": 49,
     "metadata": {},
     "output_type": "execute_result"
    }
   ],
   "source": [
    "test_data.isna().sum()"
   ]
  },
  {
   "cell_type": "code",
   "execution_count": 50,
   "metadata": {
    "ExecuteTime": {
     "end_time": "2021-12-05T06:55:47.723728Z",
     "start_time": "2021-12-05T06:55:47.714193Z"
    },
    "colab": {
     "base_uri": "https://localhost:8080/"
    },
    "id": "LvCAVskSZIez",
    "outputId": "b729164c-5c52-46a7-c297-120a67276a72"
   },
   "outputs": [
    {
     "data": {
      "text/plain": [
       "240     Peanut Butter Fudge Pennies on a Platter peanu...\n",
       "405     New technology keeps everything it touches liq...\n",
       "470         Pumpkin Contest Winner Fireside Pumpkin Soup \n",
       "768                     Bacon Topped Macaroni and Cheese \n",
       "1135    Bank Bailout To Add up to 1 5 trillion to Publ...\n",
       "1305    Baba Ghanouj Baba Ghanoush Pennies on a Platte...\n",
       "Name: title, dtype: object"
      ]
     },
     "execution_count": 50,
     "metadata": {},
     "output_type": "execute_result"
    }
   ],
   "source": [
    "test_data[test_data['body'].isna()]['title']"
   ]
  },
  {
   "cell_type": "code",
   "execution_count": 51,
   "metadata": {
    "ExecuteTime": {
     "end_time": "2021-12-05T06:55:47.881179Z",
     "start_time": "2021-12-05T06:55:47.875482Z"
    },
    "colab": {
     "base_uri": "https://localhost:8080/"
    },
    "id": "53cJwIileiX5",
    "outputId": "38e5941a-0a87-41e6-de84-5e3ca73e3f40"
   },
   "outputs": [
    {
     "data": {
      "text/plain": [
       "797     Today I have a recipe that I m pretty pumped t...\n",
       "1016    http://www.betterlifechiropractic.com FREE Con...\n",
       "Name: body, dtype: object"
      ]
     },
     "execution_count": 51,
     "metadata": {},
     "output_type": "execute_result"
    }
   ],
   "source": [
    "test_data[test_data['title'].isna()]['body']"
   ]
  },
  {
   "cell_type": "code",
   "execution_count": 52,
   "metadata": {
    "ExecuteTime": {
     "end_time": "2021-12-05T06:55:48.047768Z",
     "start_time": "2021-12-05T06:55:48.044096Z"
    },
    "id": "_Tr149IocGxl"
   },
   "outputs": [],
   "source": [
    "test_data[\"body\"].fillna(test_data[\"title\"], inplace=True)"
   ]
  },
  {
   "cell_type": "code",
   "execution_count": 53,
   "metadata": {
    "ExecuteTime": {
     "end_time": "2021-12-05T06:55:48.217200Z",
     "start_time": "2021-12-05T06:55:48.213387Z"
    },
    "id": "BOoln6Vweq3E"
   },
   "outputs": [],
   "source": [
    "test_data[\"title\"].fillna(test_data[\"body\"], inplace=True)"
   ]
  },
  {
   "cell_type": "code",
   "execution_count": 54,
   "metadata": {
    "ExecuteTime": {
     "end_time": "2021-12-05T06:55:48.408972Z",
     "start_time": "2021-12-05T06:55:48.391099Z"
    },
    "id": "LrhgEK4WftGS"
   },
   "outputs": [],
   "source": [
    "data.dropna(axis=0, how='any', thresh=None, subset=None, inplace=True)"
   ]
  },
  {
   "cell_type": "code",
   "execution_count": 55,
   "metadata": {
    "ExecuteTime": {
     "end_time": "2021-12-05T06:55:48.588301Z",
     "start_time": "2021-12-05T06:55:48.559197Z"
    },
    "colab": {
     "base_uri": "https://localhost:8080/"
    },
    "id": "pCNLY4PQhcw5",
    "outputId": "28ab0e0a-a9bf-4542-fc5d-94cbcd0dbbd7"
   },
   "outputs": [
    {
     "name": "stdout",
     "output_type": "stream",
     "text": [
      "<class 'pandas.core.frame.DataFrame'>\n",
      "Int64Index: 5855 entries, 0 to 5914\n",
      "Data columns (total 40 columns):\n",
      " #   Column                               Non-Null Count  Dtype  \n",
      "---  ------                               --------------  -----  \n",
      " 0   url                                  5855 non-null   object \n",
      " 1   webpageDescription                   5855 non-null   object \n",
      " 2   body                                 5855 non-null   object \n",
      " 3   title                                5855 non-null   object \n",
      " 4   alchemy_category_score               5855 non-null   float64\n",
      " 5   avgLinkWordLength                    5855 non-null   float64\n",
      " 6   AvglinkWithOneCommonWord             5855 non-null   float64\n",
      " 7   AvglinkWithTwoCommonWord             5855 non-null   float64\n",
      " 8   AvglinkWithThreeCommonWord           5855 non-null   float64\n",
      " 9   AvglinkWithFourCommonWord            5855 non-null   float64\n",
      " 10  redundancyMeasure                    5855 non-null   float64\n",
      " 11  embedRatio                           5855 non-null   float64\n",
      " 12  frameTagRatio                        5855 non-null   float64\n",
      " 13  domainLink                           5855 non-null   int64  \n",
      " 14  tagRatio                             5855 non-null   float64\n",
      " 15  imageTagRatio                        5855 non-null   float64\n",
      " 16  lengthyDomain                        5855 non-null   int64  \n",
      " 17  hyperlinkToAllWordsRatio             5855 non-null   int64  \n",
      " 18  isFrontPageNews                      5855 non-null   float64\n",
      " 19  alphanumCharCount                    5855 non-null   int64  \n",
      " 20  linksCount                           5855 non-null   int64  \n",
      " 21  wordCount                            5855 non-null   int64  \n",
      " 22  parametrizedLinkRatio                5855 non-null   float64\n",
      " 23  spellingErrorsRatio                  5855 non-null   float64\n",
      " 24  label                                5855 non-null   int64  \n",
      " 25  id                                   5855 non-null   int64  \n",
      " 26  alchemy_category_arts_entertainment  5855 non-null   uint8  \n",
      " 27  alchemy_category_business            5855 non-null   uint8  \n",
      " 28  alchemy_category_computer_internet   5855 non-null   uint8  \n",
      " 29  alchemy_category_culture_politics    5855 non-null   uint8  \n",
      " 30  alchemy_category_gaming              5855 non-null   uint8  \n",
      " 31  alchemy_category_health              5855 non-null   uint8  \n",
      " 32  alchemy_category_law_crime           5855 non-null   uint8  \n",
      " 33  alchemy_category_other               5855 non-null   uint8  \n",
      " 34  alchemy_category_recreation          5855 non-null   uint8  \n",
      " 35  alchemy_category_religion            5855 non-null   uint8  \n",
      " 36  alchemy_category_science_technology  5855 non-null   uint8  \n",
      " 37  alchemy_category_sports              5855 non-null   uint8  \n",
      " 38  alchemy_category_unknown             5855 non-null   uint8  \n",
      " 39  alchemy_category_weather             5855 non-null   uint8  \n",
      "dtypes: float64(14), int64(8), object(4), uint8(14)\n",
      "memory usage: 1.3+ MB\n"
     ]
    }
   ],
   "source": [
    "data.info()"
   ]
  },
  {
   "cell_type": "code",
   "execution_count": 56,
   "metadata": {
    "ExecuteTime": {
     "end_time": "2021-12-05T06:55:48.735544Z",
     "start_time": "2021-12-05T06:55:48.732479Z"
    },
    "colab": {
     "base_uri": "https://localhost:8080/"
    },
    "id": "FwTMoFkGh6Nk",
    "outputId": "2143d2e7-bf49-4224-b3a3-b9a566968f39"
   },
   "outputs": [
    {
     "data": {
      "text/plain": [
       "(5855, 40)"
      ]
     },
     "execution_count": 56,
     "metadata": {},
     "output_type": "execute_result"
    }
   ],
   "source": [
    "data.shape"
   ]
  },
  {
   "cell_type": "code",
   "execution_count": 57,
   "metadata": {
    "ExecuteTime": {
     "end_time": "2021-12-05T06:55:48.914183Z",
     "start_time": "2021-12-05T06:55:48.899304Z"
    },
    "colab": {
     "base_uri": "https://localhost:8080/",
     "height": 349
    },
    "id": "dRuph9_vi_RL",
    "outputId": "16cbd79d-2c27-4293-bef9-9fb7cd47ca19"
   },
   "outputs": [
    {
     "data": {
      "text/html": [
       "<div>\n",
       "<style scoped>\n",
       "    .dataframe tbody tr th:only-of-type {\n",
       "        vertical-align: middle;\n",
       "    }\n",
       "\n",
       "    .dataframe tbody tr th {\n",
       "        vertical-align: top;\n",
       "    }\n",
       "\n",
       "    .dataframe thead th {\n",
       "        text-align: right;\n",
       "    }\n",
       "</style>\n",
       "<table border=\"1\" class=\"dataframe\">\n",
       "  <thead>\n",
       "    <tr style=\"text-align: right;\">\n",
       "      <th></th>\n",
       "      <th>url</th>\n",
       "      <th>webpageDescription</th>\n",
       "      <th>body</th>\n",
       "      <th>title</th>\n",
       "      <th>alchemy_category_score</th>\n",
       "      <th>avgLinkWordLength</th>\n",
       "      <th>AvglinkWithOneCommonWord</th>\n",
       "      <th>AvglinkWithTwoCommonWord</th>\n",
       "      <th>AvglinkWithThreeCommonWord</th>\n",
       "      <th>AvglinkWithFourCommonWord</th>\n",
       "      <th>...</th>\n",
       "      <th>alchemy_category_gaming</th>\n",
       "      <th>alchemy_category_health</th>\n",
       "      <th>alchemy_category_law_crime</th>\n",
       "      <th>alchemy_category_other</th>\n",
       "      <th>alchemy_category_recreation</th>\n",
       "      <th>alchemy_category_religion</th>\n",
       "      <th>alchemy_category_science_technology</th>\n",
       "      <th>alchemy_category_sports</th>\n",
       "      <th>alchemy_category_unknown</th>\n",
       "      <th>alchemy_category_weather</th>\n",
       "    </tr>\n",
       "  </thead>\n",
       "  <tbody>\n",
       "    <tr>\n",
       "      <th>0</th>\n",
       "      <td>http://www.polyvore.com/cgi/home?id=1389651</td>\n",
       "      <td>{\"title\":\"Join Polyvore and follow the latest ...</td>\n",
       "      <td>polyvore is the best place to discover or sta...</td>\n",
       "      <td>Join Polyvore and follow the latest styles</td>\n",
       "      <td>0.605479</td>\n",
       "      <td>1.916667</td>\n",
       "      <td>0.047619</td>\n",
       "      <td>0.007937</td>\n",
       "      <td>0.0</td>\n",
       "      <td>0.0</td>\n",
       "      <td>...</td>\n",
       "      <td>0</td>\n",
       "      <td>0</td>\n",
       "      <td>0</td>\n",
       "      <td>1</td>\n",
       "      <td>0</td>\n",
       "      <td>0</td>\n",
       "      <td>0</td>\n",
       "      <td>0</td>\n",
       "      <td>0</td>\n",
       "      <td>0</td>\n",
       "    </tr>\n",
       "    <tr>\n",
       "      <th>1</th>\n",
       "      <td>http://www.youtube.com/watch?v=ippMPPu6gh4</td>\n",
       "      <td>{\"body\":\"Speed Air Man--David Belle david bell...</td>\n",
       "      <td>Speed Air Man--David Belle david belle speed a...</td>\n",
       "      <td>Speed Air Man--David Belle</td>\n",
       "      <td>0.605479</td>\n",
       "      <td>1.257576</td>\n",
       "      <td>0.141026</td>\n",
       "      <td>0.000000</td>\n",
       "      <td>0.0</td>\n",
       "      <td>0.0</td>\n",
       "      <td>...</td>\n",
       "      <td>0</td>\n",
       "      <td>0</td>\n",
       "      <td>0</td>\n",
       "      <td>1</td>\n",
       "      <td>0</td>\n",
       "      <td>0</td>\n",
       "      <td>0</td>\n",
       "      <td>0</td>\n",
       "      <td>0</td>\n",
       "      <td>0</td>\n",
       "    </tr>\n",
       "  </tbody>\n",
       "</table>\n",
       "<p>2 rows × 40 columns</p>\n",
       "</div>"
      ],
      "text/plain": [
       "                                           url  \\\n",
       "0  http://www.polyvore.com/cgi/home?id=1389651   \n",
       "1   http://www.youtube.com/watch?v=ippMPPu6gh4   \n",
       "\n",
       "                                  webpageDescription  \\\n",
       "0  {\"title\":\"Join Polyvore and follow the latest ...   \n",
       "1  {\"body\":\"Speed Air Man--David Belle david bell...   \n",
       "\n",
       "                                                body  \\\n",
       "0   polyvore is the best place to discover or sta...   \n",
       "1  Speed Air Man--David Belle david belle speed a...   \n",
       "\n",
       "                                         title  alchemy_category_score  \\\n",
       "0  Join Polyvore and follow the latest styles                 0.605479   \n",
       "1                   Speed Air Man--David Belle                0.605479   \n",
       "\n",
       "   avgLinkWordLength  AvglinkWithOneCommonWord  AvglinkWithTwoCommonWord  \\\n",
       "0           1.916667                  0.047619                  0.007937   \n",
       "1           1.257576                  0.141026                  0.000000   \n",
       "\n",
       "   AvglinkWithThreeCommonWord  AvglinkWithFourCommonWord  ...  \\\n",
       "0                         0.0                        0.0  ...   \n",
       "1                         0.0                        0.0  ...   \n",
       "\n",
       "   alchemy_category_gaming  alchemy_category_health  \\\n",
       "0                        0                        0   \n",
       "1                        0                        0   \n",
       "\n",
       "   alchemy_category_law_crime  alchemy_category_other  \\\n",
       "0                           0                       1   \n",
       "1                           0                       1   \n",
       "\n",
       "   alchemy_category_recreation  alchemy_category_religion  \\\n",
       "0                            0                          0   \n",
       "1                            0                          0   \n",
       "\n",
       "   alchemy_category_science_technology  alchemy_category_sports  \\\n",
       "0                                    0                        0   \n",
       "1                                    0                        0   \n",
       "\n",
       "   alchemy_category_unknown  alchemy_category_weather  \n",
       "0                         0                         0  \n",
       "1                         0                         0  \n",
       "\n",
       "[2 rows x 40 columns]"
      ]
     },
     "execution_count": 57,
     "metadata": {},
     "output_type": "execute_result"
    }
   ],
   "source": [
    "data.head(2)"
   ]
  },
  {
   "cell_type": "code",
   "execution_count": 58,
   "metadata": {
    "ExecuteTime": {
     "end_time": "2021-12-05T06:55:49.084863Z",
     "start_time": "2021-12-05T06:55:49.066797Z"
    },
    "colab": {
     "base_uri": "https://localhost:8080/",
     "height": 184
    },
    "id": "Lm7NgoPIjHu6",
    "outputId": "3aa92b7d-07b3-4ba7-c1ff-a976fb30d101"
   },
   "outputs": [
    {
     "data": {
      "text/html": [
       "<div>\n",
       "<style scoped>\n",
       "    .dataframe tbody tr th:only-of-type {\n",
       "        vertical-align: middle;\n",
       "    }\n",
       "\n",
       "    .dataframe tbody tr th {\n",
       "        vertical-align: top;\n",
       "    }\n",
       "\n",
       "    .dataframe thead th {\n",
       "        text-align: right;\n",
       "    }\n",
       "</style>\n",
       "<table border=\"1\" class=\"dataframe\">\n",
       "  <thead>\n",
       "    <tr style=\"text-align: right;\">\n",
       "      <th></th>\n",
       "      <th>url</th>\n",
       "      <th>webpageDescription</th>\n",
       "      <th>body</th>\n",
       "      <th>title</th>\n",
       "      <th>alchemy_category_score</th>\n",
       "      <th>avgLinkWordLength</th>\n",
       "      <th>AvglinkWithOneCommonWord</th>\n",
       "      <th>AvglinkWithTwoCommonWord</th>\n",
       "      <th>AvglinkWithThreeCommonWord</th>\n",
       "      <th>AvglinkWithFourCommonWord</th>\n",
       "      <th>...</th>\n",
       "      <th>alchemy_category_gaming</th>\n",
       "      <th>alchemy_category_health</th>\n",
       "      <th>alchemy_category_law_crime</th>\n",
       "      <th>alchemy_category_other</th>\n",
       "      <th>alchemy_category_recreation</th>\n",
       "      <th>alchemy_category_religion</th>\n",
       "      <th>alchemy_category_science_technology</th>\n",
       "      <th>alchemy_category_sports</th>\n",
       "      <th>alchemy_category_unknown</th>\n",
       "      <th>alchemy_category_weather</th>\n",
       "    </tr>\n",
       "  </thead>\n",
       "  <tbody>\n",
       "    <tr>\n",
       "      <th>0</th>\n",
       "      <td>http://www.ocweekly.com/2013-04-11/news/deport...</td>\n",
       "      <td>{\"url\":\"ocweekly 2013 04 11 news deported mexi...</td>\n",
       "      <td>Decades later long after federal authorities d...</td>\n",
       "      <td>The Lost Mexicans of the Bastanchury Ranch Pag...</td>\n",
       "      <td>0.300004</td>\n",
       "      <td>2.307692</td>\n",
       "      <td>0.424749</td>\n",
       "      <td>0.190635</td>\n",
       "      <td>0.036789</td>\n",
       "      <td>0.020067</td>\n",
       "      <td>...</td>\n",
       "      <td>0</td>\n",
       "      <td>0</td>\n",
       "      <td>0</td>\n",
       "      <td>0</td>\n",
       "      <td>0</td>\n",
       "      <td>0</td>\n",
       "      <td>0</td>\n",
       "      <td>1</td>\n",
       "      <td>0</td>\n",
       "      <td>0</td>\n",
       "    </tr>\n",
       "  </tbody>\n",
       "</table>\n",
       "<p>1 rows × 39 columns</p>\n",
       "</div>"
      ],
      "text/plain": [
       "                                                 url  \\\n",
       "0  http://www.ocweekly.com/2013-04-11/news/deport...   \n",
       "\n",
       "                                  webpageDescription  \\\n",
       "0  {\"url\":\"ocweekly 2013 04 11 news deported mexi...   \n",
       "\n",
       "                                                body  \\\n",
       "0  Decades later long after federal authorities d...   \n",
       "\n",
       "                                               title  alchemy_category_score  \\\n",
       "0  The Lost Mexicans of the Bastanchury Ranch Pag...                0.300004   \n",
       "\n",
       "   avgLinkWordLength  AvglinkWithOneCommonWord  AvglinkWithTwoCommonWord  \\\n",
       "0           2.307692                  0.424749                  0.190635   \n",
       "\n",
       "   AvglinkWithThreeCommonWord  AvglinkWithFourCommonWord  ...  \\\n",
       "0                    0.036789                   0.020067  ...   \n",
       "\n",
       "   alchemy_category_gaming  alchemy_category_health  \\\n",
       "0                        0                        0   \n",
       "\n",
       "   alchemy_category_law_crime  alchemy_category_other  \\\n",
       "0                           0                       0   \n",
       "\n",
       "   alchemy_category_recreation  alchemy_category_religion  \\\n",
       "0                            0                          0   \n",
       "\n",
       "   alchemy_category_science_technology  alchemy_category_sports  \\\n",
       "0                                    0                        1   \n",
       "\n",
       "   alchemy_category_unknown  alchemy_category_weather  \n",
       "0                         0                         0  \n",
       "\n",
       "[1 rows x 39 columns]"
      ]
     },
     "execution_count": 58,
     "metadata": {},
     "output_type": "execute_result"
    }
   ],
   "source": [
    "test_data.head(1)"
   ]
  },
  {
   "cell_type": "code",
   "execution_count": 59,
   "metadata": {
    "ExecuteTime": {
     "end_time": "2021-12-05T06:55:49.577127Z",
     "start_time": "2021-12-05T06:55:49.243647Z"
    },
    "id": "_E3QaRsG4k-p"
   },
   "outputs": [],
   "source": [
    "\n",
    "import pandas as pd\n",
    "import re\n",
    "import string\n",
    "import nltk\n",
    "from sklearn.feature_extraction.text import TfidfVectorizer\n",
    "stopwords = nltk.corpus.stopwords.words('english')\n",
    "ps = nltk.PorterStemmer()"
   ]
  },
  {
   "cell_type": "code",
   "execution_count": 60,
   "metadata": {
    "ExecuteTime": {
     "end_time": "2021-12-05T06:55:49.580454Z",
     "start_time": "2021-12-05T06:55:49.578047Z"
    },
    "id": "0SWgsONr4-3c"
   },
   "outputs": [],
   "source": [
    "def clean_text(text):\n",
    "    text = \"\".join([word.lower() for word in text if word not in string.punctuation])\n",
    "    tokens = re.split('\\W+', text)\n",
    "    text = [ps.stem(word) for word in tokens if word not in stopwords]\n",
    "    return text"
   ]
  },
  {
   "cell_type": "code",
   "execution_count": 61,
   "metadata": {
    "ExecuteTime": {
     "end_time": "2021-12-05T06:55:49.592384Z",
     "start_time": "2021-12-05T06:55:49.581480Z"
    },
    "id": "o3hECmj7EmfX"
   },
   "outputs": [],
   "source": [
    "data['body_title']=data['body']+data['title']"
   ]
  },
  {
   "cell_type": "code",
   "execution_count": 62,
   "metadata": {
    "ExecuteTime": {
     "end_time": "2021-12-05T06:55:49.821520Z",
     "start_time": "2021-12-05T06:55:49.814720Z"
    },
    "id": "K96Eb_NXFN5v"
   },
   "outputs": [],
   "source": [
    "test_data['body_title']=test_data['body']+test_data['title']"
   ]
  },
  {
   "cell_type": "code",
   "execution_count": 63,
   "metadata": {
    "ExecuteTime": {
     "end_time": "2021-12-05T06:56:36.449132Z",
     "start_time": "2021-12-05T06:55:49.989149Z"
    },
    "id": "g2bAABS_jJ0r"
   },
   "outputs": [],
   "source": [
    "tfidf_vectorizer=TfidfVectorizer(analyzer=clean_text)\n",
    "tfidf_vectorizer.fit_transform(data['body_title'])\n",
    "train_feature_set=tfidf_vectorizer.transform(data['body_title'].values)\n",
    "test_feature_set=tfidf_vectorizer.transform(test_data['body_title'].values)\n"
   ]
  },
  {
   "cell_type": "code",
   "execution_count": 64,
   "metadata": {
    "ExecuteTime": {
     "end_time": "2021-12-05T06:56:36.453271Z",
     "start_time": "2021-12-05T06:56:36.450160Z"
    },
    "colab": {
     "base_uri": "https://localhost:8080/"
    },
    "id": "rOFxP6G6BOg5",
    "outputId": "ca874ba1-ba53-4f7f-c73f-97bcae9b43f2"
   },
   "outputs": [
    {
     "data": {
      "text/plain": [
       "Index(['url', 'webpageDescription', 'body', 'title', 'alchemy_category_score',\n",
       "       'avgLinkWordLength', 'AvglinkWithOneCommonWord',\n",
       "       'AvglinkWithTwoCommonWord', 'AvglinkWithThreeCommonWord',\n",
       "       'AvglinkWithFourCommonWord', 'redundancyMeasure', 'embedRatio',\n",
       "       'frameTagRatio', 'domainLink', 'tagRatio', 'imageTagRatio',\n",
       "       'lengthyDomain', 'hyperlinkToAllWordsRatio', 'isFrontPageNews',\n",
       "       'alphanumCharCount', 'linksCount', 'wordCount', 'parametrizedLinkRatio',\n",
       "       'spellingErrorsRatio', 'label', 'id',\n",
       "       'alchemy_category_arts_entertainment', 'alchemy_category_business',\n",
       "       'alchemy_category_computer_internet',\n",
       "       'alchemy_category_culture_politics', 'alchemy_category_gaming',\n",
       "       'alchemy_category_health', 'alchemy_category_law_crime',\n",
       "       'alchemy_category_other', 'alchemy_category_recreation',\n",
       "       'alchemy_category_religion', 'alchemy_category_science_technology',\n",
       "       'alchemy_category_sports', 'alchemy_category_unknown',\n",
       "       'alchemy_category_weather', 'body_title'],\n",
       "      dtype='object')"
      ]
     },
     "execution_count": 64,
     "metadata": {},
     "output_type": "execute_result"
    }
   ],
   "source": [
    "data.columns"
   ]
  },
  {
   "cell_type": "code",
   "execution_count": null,
   "metadata": {
    "id": "RE8BeGYZA4Uu"
   },
   "outputs": [],
   "source": []
  },
  {
   "cell_type": "code",
   "execution_count": null,
   "metadata": {
    "colab": {
     "base_uri": "https://localhost:8080/",
     "height": 279
    },
    "id": "MmoNNEImBkUX",
    "outputId": "70e32e6a-ae50-42b7-9558-a6076b46d822"
   },
   "outputs": [],
   "source": []
  },
  {
   "cell_type": "code",
   "execution_count": 65,
   "metadata": {
    "ExecuteTime": {
     "end_time": "2021-12-05T06:56:36.459151Z",
     "start_time": "2021-12-05T06:56:36.454612Z"
    },
    "colab": {
     "base_uri": "https://localhost:8080/"
    },
    "id": "boF1CNStAYUQ",
    "outputId": "0a40f1e2-8add-4b8e-d088-daa6621b4e24"
   },
   "outputs": [
    {
     "data": {
      "text/plain": [
       "scipy.sparse.csr.csr_matrix"
      ]
     },
     "execution_count": 65,
     "metadata": {},
     "output_type": "execute_result"
    }
   ],
   "source": [
    "type(train_feature_set)"
   ]
  },
  {
   "cell_type": "code",
   "execution_count": 66,
   "metadata": {
    "ExecuteTime": {
     "end_time": "2021-12-05T06:56:36.907302Z",
     "start_time": "2021-12-05T06:56:36.460512Z"
    },
    "colab": {
     "base_uri": "https://localhost:8080/"
    },
    "id": "S3zX0a9t6TUX",
    "outputId": "da93089f-8a3d-41ba-c944-767d562b640b"
   },
   "outputs": [
    {
     "data": {
      "text/plain": [
       "LogisticRegression(max_iter=500)"
      ]
     },
     "execution_count": 66,
     "metadata": {},
     "output_type": "execute_result"
    }
   ],
   "source": [
    "from sklearn.linear_model import LogisticRegression\n",
    "logreg = LogisticRegression(max_iter=500)\n",
    "logreg.fit(train_feature_set, data['label'].values)"
   ]
  },
  {
   "cell_type": "code",
   "execution_count": 67,
   "metadata": {
    "ExecuteTime": {
     "end_time": "2021-12-05T06:56:36.911081Z",
     "start_time": "2021-12-05T06:56:36.908520Z"
    },
    "colab": {
     "base_uri": "https://localhost:8080/"
    },
    "id": "_khcpB_fAW7z",
    "outputId": "5d0ae115-9aa0-4ec2-b386-6a34be37c710"
   },
   "outputs": [
    {
     "data": {
      "text/plain": [
       "<1479x65759 sparse matrix of type '<class 'numpy.float64'>'\n",
       "\twith 217437 stored elements in Compressed Sparse Row format>"
      ]
     },
     "execution_count": 67,
     "metadata": {},
     "output_type": "execute_result"
    }
   ],
   "source": [
    "test_feature_set"
   ]
  },
  {
   "cell_type": "code",
   "execution_count": 68,
   "metadata": {
    "ExecuteTime": {
     "end_time": "2021-12-05T06:56:36.918200Z",
     "start_time": "2021-12-05T06:56:36.912067Z"
    },
    "id": "Ob4FK1_E6zmi"
   },
   "outputs": [],
   "source": [
    "y_pred=logreg.predict_proba(test_feature_set)[:,1]"
   ]
  },
  {
   "cell_type": "code",
   "execution_count": 69,
   "metadata": {
    "ExecuteTime": {
     "end_time": "2021-12-05T06:56:36.922307Z",
     "start_time": "2021-12-05T06:56:36.919154Z"
    },
    "colab": {
     "base_uri": "https://localhost:8080/"
    },
    "id": "0EWIip1nN_yD",
    "outputId": "c122880b-0694-4a16-9662-11e43aac6f28"
   },
   "outputs": [
    {
     "data": {
      "text/plain": [
       "(1479,)"
      ]
     },
     "execution_count": 69,
     "metadata": {},
     "output_type": "execute_result"
    }
   ],
   "source": [
    "y_pred.shape"
   ]
  },
  {
   "cell_type": "code",
   "execution_count": null,
   "metadata": {
    "id": "p40blz7M69Ma"
   },
   "outputs": [],
   "source": []
  },
  {
   "cell_type": "code",
   "execution_count": 70,
   "metadata": {
    "ExecuteTime": {
     "end_time": "2021-12-05T06:56:36.929165Z",
     "start_time": "2021-12-05T06:56:36.924429Z"
    },
    "colab": {
     "base_uri": "https://localhost:8080/"
    },
    "id": "pzbQ-phEOto2",
    "outputId": "f77415a6-8198-4f7c-d85e-f14dbeca6a1b"
   },
   "outputs": [
    {
     "data": {
      "text/plain": [
       "array([[0.34299345],\n",
       "       [0.79923294],\n",
       "       [0.9563669 ],\n",
       "       ...,\n",
       "       [0.32660693],\n",
       "       [0.94523534],\n",
       "       [0.92503208]])"
      ]
     },
     "execution_count": 70,
     "metadata": {},
     "output_type": "execute_result"
    }
   ],
   "source": [
    "y_pred.reshape(-1,1)"
   ]
  },
  {
   "cell_type": "code",
   "execution_count": 71,
   "metadata": {
    "ExecuteTime": {
     "end_time": "2021-12-05T06:56:36.932068Z",
     "start_time": "2021-12-05T06:56:36.930357Z"
    },
    "id": "TotE9_4uPeNp"
   },
   "outputs": [],
   "source": [
    "y_pred=y_pred.reshape(-1,1)"
   ]
  },
  {
   "cell_type": "code",
   "execution_count": 72,
   "metadata": {
    "ExecuteTime": {
     "end_time": "2021-12-05T06:56:36.936083Z",
     "start_time": "2021-12-05T06:56:36.933025Z"
    },
    "id": "V0B4nrLe7NUh"
   },
   "outputs": [],
   "source": [
    "first = (test_data[\"id\"].to_numpy().astype(np.int32)).reshape(-1,1)"
   ]
  },
  {
   "cell_type": "code",
   "execution_count": 73,
   "metadata": {
    "ExecuteTime": {
     "end_time": "2021-12-05T06:56:36.939803Z",
     "start_time": "2021-12-05T06:56:36.936798Z"
    },
    "id": "a5oW7xnkP-1J"
   },
   "outputs": [],
   "source": [
    "final = np.concatenate((first,y_pred),axis = 1)"
   ]
  },
  {
   "cell_type": "code",
   "execution_count": 74,
   "metadata": {
    "ExecuteTime": {
     "end_time": "2021-12-05T06:56:36.944603Z",
     "start_time": "2021-12-05T06:56:36.940544Z"
    },
    "colab": {
     "base_uri": "https://localhost:8080/"
    },
    "id": "UvseOrTIOlFJ",
    "outputId": "9081541d-f271-4c1f-ef3d-8b8e72dcb3d1"
   },
   "outputs": [
    {
     "data": {
      "text/plain": [
       "(1479, 2)"
      ]
     },
     "execution_count": 74,
     "metadata": {},
     "output_type": "execute_result"
    }
   ],
   "source": [
    "final.shape"
   ]
  },
  {
   "cell_type": "code",
   "execution_count": 75,
   "metadata": {
    "ExecuteTime": {
     "end_time": "2021-12-05T06:56:36.948435Z",
     "start_time": "2021-12-05T06:56:36.945296Z"
    },
    "colab": {
     "base_uri": "https://localhost:8080/"
    },
    "id": "aiAsZvrj7R_a",
    "outputId": "70a2e40c-6fb7-41bd-e271-8ca4b377e3e6"
   },
   "outputs": [
    {
     "data": {
      "text/plain": [
       "array([[7.17200000e+03, 3.42993449e-01],\n",
       "       [2.68700000e+03, 7.99232944e-01],\n",
       "       [6.99000000e+03, 9.56366897e-01],\n",
       "       ...,\n",
       "       [7.38000000e+02, 3.26606935e-01],\n",
       "       [4.12400000e+03, 9.45235343e-01],\n",
       "       [6.05600000e+03, 9.25032085e-01]])"
      ]
     },
     "execution_count": 75,
     "metadata": {},
     "output_type": "execute_result"
    }
   ],
   "source": [
    "final"
   ]
  },
  {
   "cell_type": "code",
   "execution_count": 76,
   "metadata": {
    "ExecuteTime": {
     "end_time": "2021-12-05T06:56:36.952146Z",
     "start_time": "2021-12-05T06:56:36.949647Z"
    },
    "colab": {
     "base_uri": "https://localhost:8080/"
    },
    "id": "1gJoO2WK7Vh5",
    "outputId": "f71a7a2f-9fad-4915-caba-ee9a3dec5035"
   },
   "outputs": [
    {
     "data": {
      "text/plain": [
       "(1479, 2)"
      ]
     },
     "execution_count": 76,
     "metadata": {},
     "output_type": "execute_result"
    }
   ],
   "source": [
    "final.shape"
   ]
  },
  {
   "cell_type": "code",
   "execution_count": 77,
   "metadata": {
    "ExecuteTime": {
     "end_time": "2021-12-05T06:56:36.955204Z",
     "start_time": "2021-12-05T06:56:36.952979Z"
    },
    "id": "evSCKX7o9Amj"
   },
   "outputs": [],
   "source": [
    "df2 = pd.DataFrame(final,\n",
    "                  columns =['id','label'])"
   ]
  },
  {
   "cell_type": "code",
   "execution_count": 78,
   "metadata": {
    "ExecuteTime": {
     "end_time": "2021-12-05T06:56:36.962508Z",
     "start_time": "2021-12-05T06:56:36.956325Z"
    },
    "colab": {
     "base_uri": "https://localhost:8080/",
     "height": 203
    },
    "id": "na-fCY-XQeZ5",
    "outputId": "8b68fb2d-5924-4c65-9a7a-0e268fc3dc43"
   },
   "outputs": [
    {
     "data": {
      "text/html": [
       "<div>\n",
       "<style scoped>\n",
       "    .dataframe tbody tr th:only-of-type {\n",
       "        vertical-align: middle;\n",
       "    }\n",
       "\n",
       "    .dataframe tbody tr th {\n",
       "        vertical-align: top;\n",
       "    }\n",
       "\n",
       "    .dataframe thead th {\n",
       "        text-align: right;\n",
       "    }\n",
       "</style>\n",
       "<table border=\"1\" class=\"dataframe\">\n",
       "  <thead>\n",
       "    <tr style=\"text-align: right;\">\n",
       "      <th></th>\n",
       "      <th>id</th>\n",
       "      <th>label</th>\n",
       "    </tr>\n",
       "  </thead>\n",
       "  <tbody>\n",
       "    <tr>\n",
       "      <th>0</th>\n",
       "      <td>7172.0</td>\n",
       "      <td>0.342993</td>\n",
       "    </tr>\n",
       "    <tr>\n",
       "      <th>1</th>\n",
       "      <td>2687.0</td>\n",
       "      <td>0.799233</td>\n",
       "    </tr>\n",
       "    <tr>\n",
       "      <th>2</th>\n",
       "      <td>6990.0</td>\n",
       "      <td>0.956367</td>\n",
       "    </tr>\n",
       "    <tr>\n",
       "      <th>3</th>\n",
       "      <td>5639.0</td>\n",
       "      <td>0.441347</td>\n",
       "    </tr>\n",
       "    <tr>\n",
       "      <th>4</th>\n",
       "      <td>2701.0</td>\n",
       "      <td>0.227376</td>\n",
       "    </tr>\n",
       "  </tbody>\n",
       "</table>\n",
       "</div>"
      ],
      "text/plain": [
       "       id     label\n",
       "0  7172.0  0.342993\n",
       "1  2687.0  0.799233\n",
       "2  6990.0  0.956367\n",
       "3  5639.0  0.441347\n",
       "4  2701.0  0.227376"
      ]
     },
     "execution_count": 78,
     "metadata": {},
     "output_type": "execute_result"
    }
   ],
   "source": [
    "df2.head()"
   ]
  },
  {
   "cell_type": "code",
   "execution_count": 79,
   "metadata": {
    "ExecuteTime": {
     "end_time": "2021-12-05T06:56:36.967319Z",
     "start_time": "2021-12-05T06:56:36.963456Z"
    },
    "colab": {
     "base_uri": "https://localhost:8080/"
    },
    "id": "cpM-GVQqQigC",
    "outputId": "0d036d9b-62f4-4442-edc9-6a8a3d10449b"
   },
   "outputs": [
    {
     "name": "stdout",
     "output_type": "stream",
     "text": [
      "id         int64\n",
      "label    float64\n",
      "dtype: object\n"
     ]
    }
   ],
   "source": [
    "convert_dict = {'id': int}  \n",
    "  \n",
    "df2 = df2.astype(convert_dict)  \n",
    "print(df2.dtypes)"
   ]
  },
  {
   "cell_type": "code",
   "execution_count": 80,
   "metadata": {
    "ExecuteTime": {
     "end_time": "2021-12-05T06:56:36.974194Z",
     "start_time": "2021-12-05T06:56:36.968107Z"
    },
    "id": "MbDmR_a7Qqsh"
   },
   "outputs": [],
   "source": [
    "csv_data = df2.to_csv(\"submit4.csv\",index=False)  "
   ]
  },
  {
   "cell_type": "markdown",
   "metadata": {
    "ExecuteTime": {
     "end_time": "2021-12-05T11:55:02.393046Z",
     "start_time": "2021-12-05T11:55:02.390590Z"
    }
   },
   "source": [
    "# svm"
   ]
  },
  {
   "cell_type": "code",
   "execution_count": 81,
   "metadata": {
    "ExecuteTime": {
     "end_time": "2021-12-05T06:57:23.165465Z",
     "start_time": "2021-12-05T06:57:23.158223Z"
    },
    "id": "l1spVAcDQ5UA"
   },
   "outputs": [],
   "source": [
    "from sklearn.pipeline import make_pipeline\n",
    "from sklearn.preprocessing import StandardScaler"
   ]
  },
  {
   "cell_type": "code",
   "execution_count": 82,
   "metadata": {
    "ExecuteTime": {
     "end_time": "2021-12-05T06:58:03.601557Z",
     "start_time": "2021-12-05T06:58:03.599508Z"
    }
   },
   "outputs": [],
   "source": [
    "from sklearn.svm import SVC"
   ]
  },
  {
   "cell_type": "code",
   "execution_count": 89,
   "metadata": {
    "ExecuteTime": {
     "end_time": "2021-12-05T07:04:09.720032Z",
     "start_time": "2021-12-05T07:04:09.717853Z"
    }
   },
   "outputs": [],
   "source": [
    "clf = make_pipeline(StandardScaler(with_mean=False), SVC(gamma='auto', probability=True))"
   ]
  },
  {
   "cell_type": "code",
   "execution_count": 90,
   "metadata": {
    "ExecuteTime": {
     "end_time": "2021-12-05T07:06:34.447977Z",
     "start_time": "2021-12-05T07:04:10.190002Z"
    }
   },
   "outputs": [
    {
     "data": {
      "text/plain": [
       "Pipeline(steps=[('standardscaler', StandardScaler(with_mean=False)),\n",
       "                ('svc', SVC(gamma='auto', probability=True))])"
      ]
     },
     "execution_count": 90,
     "metadata": {},
     "output_type": "execute_result"
    }
   ],
   "source": [
    "clf.fit(train_feature_set, data['label'].values)"
   ]
  },
  {
   "cell_type": "code",
   "execution_count": 91,
   "metadata": {
    "ExecuteTime": {
     "end_time": "2021-12-05T07:06:34.451700Z",
     "start_time": "2021-12-05T07:06:34.449078Z"
    }
   },
   "outputs": [
    {
     "data": {
      "text/plain": [
       "<1479x65759 sparse matrix of type '<class 'numpy.float64'>'\n",
       "\twith 217437 stored elements in Compressed Sparse Row format>"
      ]
     },
     "execution_count": 91,
     "metadata": {},
     "output_type": "execute_result"
    }
   ],
   "source": [
    "test_feature_set"
   ]
  },
  {
   "cell_type": "code",
   "execution_count": 92,
   "metadata": {
    "ExecuteTime": {
     "end_time": "2021-12-05T07:07:05.994137Z",
     "start_time": "2021-12-05T07:06:59.167150Z"
    }
   },
   "outputs": [],
   "source": [
    "y_pred_svm=clf.predict_proba(test_feature_set)[:,1]"
   ]
  },
  {
   "cell_type": "code",
   "execution_count": 93,
   "metadata": {
    "ExecuteTime": {
     "end_time": "2021-12-05T07:07:22.604133Z",
     "start_time": "2021-12-05T07:07:22.598709Z"
    }
   },
   "outputs": [
    {
     "data": {
      "text/plain": [
       "(1479,)"
      ]
     },
     "execution_count": 93,
     "metadata": {},
     "output_type": "execute_result"
    }
   ],
   "source": [
    "y_pred_svm.shape"
   ]
  },
  {
   "cell_type": "code",
   "execution_count": 94,
   "metadata": {
    "ExecuteTime": {
     "end_time": "2021-12-05T07:07:23.541285Z",
     "start_time": "2021-12-05T07:07:23.537638Z"
    }
   },
   "outputs": [],
   "source": [
    "y_pred_svm = y_pred_svm.reshape(-1,1)"
   ]
  },
  {
   "cell_type": "code",
   "execution_count": 95,
   "metadata": {
    "ExecuteTime": {
     "end_time": "2021-12-05T07:07:25.787488Z",
     "start_time": "2021-12-05T07:07:25.785298Z"
    }
   },
   "outputs": [],
   "source": [
    "first = (test_data[\"id\"].to_numpy().astype(np.int32)).reshape(-1,1)"
   ]
  },
  {
   "cell_type": "code",
   "execution_count": 96,
   "metadata": {
    "ExecuteTime": {
     "end_time": "2021-12-05T07:07:47.423830Z",
     "start_time": "2021-12-05T07:07:47.418028Z"
    }
   },
   "outputs": [
    {
     "data": {
      "text/plain": [
       "array([[7172],\n",
       "       [2687],\n",
       "       [6990],\n",
       "       ...,\n",
       "       [ 738],\n",
       "       [4124],\n",
       "       [6056]], dtype=int32)"
      ]
     },
     "execution_count": 96,
     "metadata": {},
     "output_type": "execute_result"
    }
   ],
   "source": [
    "first"
   ]
  },
  {
   "cell_type": "code",
   "execution_count": 101,
   "metadata": {
    "ExecuteTime": {
     "end_time": "2021-12-05T07:09:13.625788Z",
     "start_time": "2021-12-05T07:09:13.623878Z"
    }
   },
   "outputs": [],
   "source": [
    "final_svm = np.concatenate((first,y_pred_svm),axis = 1)"
   ]
  },
  {
   "cell_type": "code",
   "execution_count": 102,
   "metadata": {
    "ExecuteTime": {
     "end_time": "2021-12-05T07:09:14.457730Z",
     "start_time": "2021-12-05T07:09:14.455395Z"
    }
   },
   "outputs": [
    {
     "data": {
      "text/plain": [
       "(1479, 2)"
      ]
     },
     "execution_count": 102,
     "metadata": {},
     "output_type": "execute_result"
    }
   ],
   "source": [
    "final_svm.shape"
   ]
  },
  {
   "cell_type": "code",
   "execution_count": 103,
   "metadata": {
    "ExecuteTime": {
     "end_time": "2021-12-05T07:09:15.178369Z",
     "start_time": "2021-12-05T07:09:15.174219Z"
    }
   },
   "outputs": [],
   "source": [
    "df_svm = pd.DataFrame(final_svm,\n",
    "                  columns =['id','label'])"
   ]
  },
  {
   "cell_type": "code",
   "execution_count": 127,
   "metadata": {
    "ExecuteTime": {
     "end_time": "2021-12-05T07:19:41.422375Z",
     "start_time": "2021-12-05T07:19:41.417984Z"
    }
   },
   "outputs": [
    {
     "data": {
      "text/html": [
       "<div>\n",
       "<style scoped>\n",
       "    .dataframe tbody tr th:only-of-type {\n",
       "        vertical-align: middle;\n",
       "    }\n",
       "\n",
       "    .dataframe tbody tr th {\n",
       "        vertical-align: top;\n",
       "    }\n",
       "\n",
       "    .dataframe thead th {\n",
       "        text-align: right;\n",
       "    }\n",
       "</style>\n",
       "<table border=\"1\" class=\"dataframe\">\n",
       "  <thead>\n",
       "    <tr style=\"text-align: right;\">\n",
       "      <th></th>\n",
       "      <th>id</th>\n",
       "      <th>label</th>\n",
       "    </tr>\n",
       "  </thead>\n",
       "  <tbody>\n",
       "    <tr>\n",
       "      <th>0</th>\n",
       "      <td>7172.0</td>\n",
       "      <td>0.296756</td>\n",
       "    </tr>\n",
       "    <tr>\n",
       "      <th>1</th>\n",
       "      <td>2687.0</td>\n",
       "      <td>0.586168</td>\n",
       "    </tr>\n",
       "    <tr>\n",
       "      <th>2</th>\n",
       "      <td>6990.0</td>\n",
       "      <td>0.646304</td>\n",
       "    </tr>\n",
       "    <tr>\n",
       "      <th>3</th>\n",
       "      <td>5639.0</td>\n",
       "      <td>0.291831</td>\n",
       "    </tr>\n",
       "    <tr>\n",
       "      <th>4</th>\n",
       "      <td>2701.0</td>\n",
       "      <td>0.400264</td>\n",
       "    </tr>\n",
       "  </tbody>\n",
       "</table>\n",
       "</div>"
      ],
      "text/plain": [
       "       id     label\n",
       "0  7172.0  0.296756\n",
       "1  2687.0  0.586168\n",
       "2  6990.0  0.646304\n",
       "3  5639.0  0.291831\n",
       "4  2701.0  0.400264"
      ]
     },
     "execution_count": 127,
     "metadata": {},
     "output_type": "execute_result"
    }
   ],
   "source": [
    "df_svm.head()"
   ]
  },
  {
   "cell_type": "code",
   "execution_count": 128,
   "metadata": {
    "ExecuteTime": {
     "end_time": "2021-12-05T07:19:43.198414Z",
     "start_time": "2021-12-05T07:19:43.191873Z"
    }
   },
   "outputs": [
    {
     "name": "stdout",
     "output_type": "stream",
     "text": [
      "id         int64\n",
      "label    float64\n",
      "dtype: object\n"
     ]
    }
   ],
   "source": [
    "convert_dict = {'id': int}  \n",
    "  \n",
    "df_svm = df_svm.astype(convert_dict)  \n",
    "print(df_svm.dtypes)"
   ]
  },
  {
   "cell_type": "code",
   "execution_count": 129,
   "metadata": {
    "ExecuteTime": {
     "end_time": "2021-12-05T07:19:51.673190Z",
     "start_time": "2021-12-05T07:19:51.668283Z"
    }
   },
   "outputs": [],
   "source": [
    "csv_data = df_svm.to_csv(\"submit_svm.csv\",index=False)  "
   ]
  },
  {
   "cell_type": "markdown",
   "metadata": {
    "ExecuteTime": {
     "end_time": "2021-12-05T07:19:55.844058Z",
     "start_time": "2021-12-05T07:19:55.840357Z"
    }
   },
   "source": [
    "# knn"
   ]
  },
  {
   "cell_type": "code",
   "execution_count": 131,
   "metadata": {
    "ExecuteTime": {
     "end_time": "2021-12-05T07:19:56.181504Z",
     "start_time": "2021-12-05T07:19:56.179348Z"
    }
   },
   "outputs": [],
   "source": [
    "from sklearn.neighbors import KNeighborsClassifier"
   ]
  },
  {
   "cell_type": "code",
   "execution_count": 142,
   "metadata": {
    "ExecuteTime": {
     "end_time": "2021-12-05T07:20:23.381661Z",
     "start_time": "2021-12-05T07:20:23.378125Z"
    }
   },
   "outputs": [],
   "source": [
    "neigh = KNeighborsClassifier(n_neighbors=100)"
   ]
  },
  {
   "cell_type": "code",
   "execution_count": 143,
   "metadata": {
    "ExecuteTime": {
     "end_time": "2021-12-05T07:20:25.714175Z",
     "start_time": "2021-12-05T07:20:25.709735Z"
    }
   },
   "outputs": [
    {
     "data": {
      "text/plain": [
       "KNeighborsClassifier(n_neighbors=100)"
      ]
     },
     "execution_count": 143,
     "metadata": {},
     "output_type": "execute_result"
    }
   ],
   "source": [
    "neigh.fit(train_feature_set, data['label'].values)"
   ]
  },
  {
   "cell_type": "code",
   "execution_count": 144,
   "metadata": {
    "ExecuteTime": {
     "end_time": "2021-12-05T07:20:26.751969Z",
     "start_time": "2021-12-05T07:20:26.139692Z"
    }
   },
   "outputs": [],
   "source": [
    "y_pred_knn=neigh.predict_proba(test_feature_set)[:,1]"
   ]
  },
  {
   "cell_type": "code",
   "execution_count": 145,
   "metadata": {
    "ExecuteTime": {
     "end_time": "2021-12-05T07:20:26.755433Z",
     "start_time": "2021-12-05T07:20:26.752882Z"
    }
   },
   "outputs": [
    {
     "data": {
      "text/plain": [
       "(1479,)"
      ]
     },
     "execution_count": 145,
     "metadata": {},
     "output_type": "execute_result"
    }
   ],
   "source": [
    "y_pred_knn.shape"
   ]
  },
  {
   "cell_type": "code",
   "execution_count": 146,
   "metadata": {
    "ExecuteTime": {
     "end_time": "2021-12-05T07:20:26.831483Z",
     "start_time": "2021-12-05T07:20:26.829184Z"
    }
   },
   "outputs": [],
   "source": [
    "y_pred_knn = y_pred_knn.reshape(-1,1)"
   ]
  },
  {
   "cell_type": "code",
   "execution_count": 147,
   "metadata": {
    "ExecuteTime": {
     "end_time": "2021-12-05T07:20:27.750150Z",
     "start_time": "2021-12-05T07:20:27.745136Z"
    }
   },
   "outputs": [],
   "source": [
    "first = (test_data[\"id\"].to_numpy().astype(np.int32)).reshape(-1,1)"
   ]
  },
  {
   "cell_type": "code",
   "execution_count": 148,
   "metadata": {
    "ExecuteTime": {
     "end_time": "2021-12-05T07:20:28.374176Z",
     "start_time": "2021-12-05T07:20:28.370456Z"
    }
   },
   "outputs": [],
   "source": [
    "final_knn = np.concatenate((first,y_pred_knn),axis = 1)"
   ]
  },
  {
   "cell_type": "code",
   "execution_count": 149,
   "metadata": {
    "ExecuteTime": {
     "end_time": "2021-12-05T07:20:29.590479Z",
     "start_time": "2021-12-05T07:20:29.587531Z"
    }
   },
   "outputs": [
    {
     "data": {
      "text/plain": [
       "(1479, 2)"
      ]
     },
     "execution_count": 149,
     "metadata": {},
     "output_type": "execute_result"
    }
   ],
   "source": [
    "final_knn.shape"
   ]
  },
  {
   "cell_type": "code",
   "execution_count": 150,
   "metadata": {
    "ExecuteTime": {
     "end_time": "2021-12-05T07:20:30.888507Z",
     "start_time": "2021-12-05T07:20:30.884433Z"
    }
   },
   "outputs": [],
   "source": [
    "df_knn = pd.DataFrame(final_knn,\n",
    "                  columns =['id','label'])"
   ]
  },
  {
   "cell_type": "code",
   "execution_count": 151,
   "metadata": {
    "ExecuteTime": {
     "end_time": "2021-12-05T07:20:31.832433Z",
     "start_time": "2021-12-05T07:20:31.824354Z"
    }
   },
   "outputs": [
    {
     "data": {
      "text/html": [
       "<div>\n",
       "<style scoped>\n",
       "    .dataframe tbody tr th:only-of-type {\n",
       "        vertical-align: middle;\n",
       "    }\n",
       "\n",
       "    .dataframe tbody tr th {\n",
       "        vertical-align: top;\n",
       "    }\n",
       "\n",
       "    .dataframe thead th {\n",
       "        text-align: right;\n",
       "    }\n",
       "</style>\n",
       "<table border=\"1\" class=\"dataframe\">\n",
       "  <thead>\n",
       "    <tr style=\"text-align: right;\">\n",
       "      <th></th>\n",
       "      <th>id</th>\n",
       "      <th>label</th>\n",
       "    </tr>\n",
       "  </thead>\n",
       "  <tbody>\n",
       "    <tr>\n",
       "      <th>0</th>\n",
       "      <td>7172.0</td>\n",
       "      <td>0.61</td>\n",
       "    </tr>\n",
       "    <tr>\n",
       "      <th>1</th>\n",
       "      <td>2687.0</td>\n",
       "      <td>0.69</td>\n",
       "    </tr>\n",
       "    <tr>\n",
       "      <th>2</th>\n",
       "      <td>6990.0</td>\n",
       "      <td>0.93</td>\n",
       "    </tr>\n",
       "    <tr>\n",
       "      <th>3</th>\n",
       "      <td>5639.0</td>\n",
       "      <td>0.59</td>\n",
       "    </tr>\n",
       "    <tr>\n",
       "      <th>4</th>\n",
       "      <td>2701.0</td>\n",
       "      <td>0.25</td>\n",
       "    </tr>\n",
       "  </tbody>\n",
       "</table>\n",
       "</div>"
      ],
      "text/plain": [
       "       id  label\n",
       "0  7172.0   0.61\n",
       "1  2687.0   0.69\n",
       "2  6990.0   0.93\n",
       "3  5639.0   0.59\n",
       "4  2701.0   0.25"
      ]
     },
     "execution_count": 151,
     "metadata": {},
     "output_type": "execute_result"
    }
   ],
   "source": [
    "df_knn.head()"
   ]
  },
  {
   "cell_type": "code",
   "execution_count": 152,
   "metadata": {
    "ExecuteTime": {
     "end_time": "2021-12-05T07:20:46.545973Z",
     "start_time": "2021-12-05T07:20:46.538404Z"
    }
   },
   "outputs": [
    {
     "name": "stdout",
     "output_type": "stream",
     "text": [
      "id         int64\n",
      "label    float64\n",
      "dtype: object\n"
     ]
    }
   ],
   "source": [
    "convert_dict = {'id': int}  \n",
    "  \n",
    "df_knn = df_knn.astype(convert_dict)  \n",
    "print(df_knn.dtypes)"
   ]
  },
  {
   "cell_type": "code",
   "execution_count": 153,
   "metadata": {
    "ExecuteTime": {
     "end_time": "2021-12-05T07:20:50.385402Z",
     "start_time": "2021-12-05T07:20:50.379951Z"
    }
   },
   "outputs": [],
   "source": [
    "csv_data = df_knn.to_csv(\"submit_knn.csv\",index=False)  "
   ]
  },
  {
   "cell_type": "markdown",
   "metadata": {
    "ExecuteTime": {
     "end_time": "2021-12-05T07:21:31.200971Z",
     "start_time": "2021-12-05T07:21:31.199268Z"
    }
   },
   "source": [
    "# multi nodal naive bayes"
   ]
  },
  {
   "cell_type": "code",
   "execution_count": 155,
   "metadata": {
    "ExecuteTime": {
     "end_time": "2021-12-05T07:28:24.243818Z",
     "start_time": "2021-12-05T07:28:24.227861Z"
    }
   },
   "outputs": [
    {
     "data": {
      "text/plain": [
       "MultinomialNB()"
      ]
     },
     "execution_count": 155,
     "metadata": {},
     "output_type": "execute_result"
    }
   ],
   "source": [
    "from sklearn.naive_bayes import MultinomialNB\n",
    "mnb = MultinomialNB()\n",
    "mnb.fit(train_feature_set, data['label'].values)"
   ]
  },
  {
   "cell_type": "code",
   "execution_count": 156,
   "metadata": {
    "ExecuteTime": {
     "end_time": "2021-12-05T07:28:55.594731Z",
     "start_time": "2021-12-05T07:28:55.588777Z"
    }
   },
   "outputs": [],
   "source": [
    "y_pred_mnb=mnb.predict_proba(test_feature_set)[:,1]"
   ]
  },
  {
   "cell_type": "code",
   "execution_count": 157,
   "metadata": {
    "ExecuteTime": {
     "end_time": "2021-12-05T07:29:06.149371Z",
     "start_time": "2021-12-05T07:29:06.146924Z"
    }
   },
   "outputs": [
    {
     "data": {
      "text/plain": [
       "(1479,)"
      ]
     },
     "execution_count": 157,
     "metadata": {},
     "output_type": "execute_result"
    }
   ],
   "source": [
    "y_pred_mnb.shape"
   ]
  },
  {
   "cell_type": "code",
   "execution_count": 158,
   "metadata": {
    "ExecuteTime": {
     "end_time": "2021-12-05T07:29:30.221936Z",
     "start_time": "2021-12-05T07:29:30.219785Z"
    }
   },
   "outputs": [],
   "source": [
    "y_pred_mnb = y_pred_mnb.reshape(-1, 1)"
   ]
  },
  {
   "cell_type": "code",
   "execution_count": 159,
   "metadata": {
    "ExecuteTime": {
     "end_time": "2021-12-05T07:29:38.621395Z",
     "start_time": "2021-12-05T07:29:38.619290Z"
    }
   },
   "outputs": [],
   "source": [
    "first = (test_data[\"id\"].to_numpy().astype(np.int32)).reshape(-1,1)"
   ]
  },
  {
   "cell_type": "code",
   "execution_count": 160,
   "metadata": {
    "ExecuteTime": {
     "end_time": "2021-12-05T07:29:56.793268Z",
     "start_time": "2021-12-05T07:29:56.789579Z"
    }
   },
   "outputs": [],
   "source": [
    "final_mnb = np.concatenate((first,y_pred_mnb),axis = 1)"
   ]
  },
  {
   "cell_type": "code",
   "execution_count": 161,
   "metadata": {
    "ExecuteTime": {
     "end_time": "2021-12-05T07:30:08.017793Z",
     "start_time": "2021-12-05T07:30:08.014971Z"
    }
   },
   "outputs": [
    {
     "data": {
      "text/plain": [
       "(1479, 2)"
      ]
     },
     "execution_count": 161,
     "metadata": {},
     "output_type": "execute_result"
    }
   ],
   "source": [
    "final_mnb.shape"
   ]
  },
  {
   "cell_type": "code",
   "execution_count": 162,
   "metadata": {
    "ExecuteTime": {
     "end_time": "2021-12-05T07:30:34.100160Z",
     "start_time": "2021-12-05T07:30:34.098034Z"
    }
   },
   "outputs": [],
   "source": [
    "df_mnb = pd.DataFrame(final_mnb,\n",
    "                  columns =['id','label'])"
   ]
  },
  {
   "cell_type": "code",
   "execution_count": 164,
   "metadata": {
    "ExecuteTime": {
     "end_time": "2021-12-05T07:30:50.156116Z",
     "start_time": "2021-12-05T07:30:50.150548Z"
    }
   },
   "outputs": [
    {
     "data": {
      "text/html": [
       "<div>\n",
       "<style scoped>\n",
       "    .dataframe tbody tr th:only-of-type {\n",
       "        vertical-align: middle;\n",
       "    }\n",
       "\n",
       "    .dataframe tbody tr th {\n",
       "        vertical-align: top;\n",
       "    }\n",
       "\n",
       "    .dataframe thead th {\n",
       "        text-align: right;\n",
       "    }\n",
       "</style>\n",
       "<table border=\"1\" class=\"dataframe\">\n",
       "  <thead>\n",
       "    <tr style=\"text-align: right;\">\n",
       "      <th></th>\n",
       "      <th>id</th>\n",
       "      <th>label</th>\n",
       "    </tr>\n",
       "  </thead>\n",
       "  <tbody>\n",
       "    <tr>\n",
       "      <th>0</th>\n",
       "      <td>7172.0</td>\n",
       "      <td>0.489808</td>\n",
       "    </tr>\n",
       "    <tr>\n",
       "      <th>1</th>\n",
       "      <td>2687.0</td>\n",
       "      <td>0.996130</td>\n",
       "    </tr>\n",
       "    <tr>\n",
       "      <th>2</th>\n",
       "      <td>6990.0</td>\n",
       "      <td>0.999795</td>\n",
       "    </tr>\n",
       "    <tr>\n",
       "      <th>3</th>\n",
       "      <td>5639.0</td>\n",
       "      <td>0.576107</td>\n",
       "    </tr>\n",
       "    <tr>\n",
       "      <th>4</th>\n",
       "      <td>2701.0</td>\n",
       "      <td>0.247162</td>\n",
       "    </tr>\n",
       "  </tbody>\n",
       "</table>\n",
       "</div>"
      ],
      "text/plain": [
       "       id     label\n",
       "0  7172.0  0.489808\n",
       "1  2687.0  0.996130\n",
       "2  6990.0  0.999795\n",
       "3  5639.0  0.576107\n",
       "4  2701.0  0.247162"
      ]
     },
     "execution_count": 164,
     "metadata": {},
     "output_type": "execute_result"
    }
   ],
   "source": [
    "df_mnb.head()"
   ]
  },
  {
   "cell_type": "code",
   "execution_count": 165,
   "metadata": {
    "ExecuteTime": {
     "end_time": "2021-12-05T07:31:09.578373Z",
     "start_time": "2021-12-05T07:31:09.574420Z"
    }
   },
   "outputs": [
    {
     "name": "stdout",
     "output_type": "stream",
     "text": [
      "id         int64\n",
      "label    float64\n",
      "dtype: object\n"
     ]
    }
   ],
   "source": [
    "convert_dict = {'id': int}  \n",
    "  \n",
    "df_mnb = df_mnb.astype(convert_dict)  \n",
    "print(df_mnb.dtypes)"
   ]
  },
  {
   "cell_type": "code",
   "execution_count": 166,
   "metadata": {
    "ExecuteTime": {
     "end_time": "2021-12-05T07:31:44.358350Z",
     "start_time": "2021-12-05T07:31:44.348531Z"
    }
   },
   "outputs": [],
   "source": [
    "csv_data = df_mnb.to_csv(\"submit_mnb.csv\",index=False)  "
   ]
  },
  {
   "cell_type": "code",
   "execution_count": null,
   "metadata": {},
   "outputs": [],
   "source": []
  }
 ],
 "metadata": {
  "colab": {
   "collapsed_sections": [],
   "name": "mini_project_preprocessing.ipynb",
   "provenance": []
  },
  "kernelspec": {
   "display_name": "Python 3",
   "language": "python",
   "name": "python3"
  },
  "language_info": {
   "codemirror_mode": {
    "name": "ipython",
    "version": 3
   },
   "file_extension": ".py",
   "mimetype": "text/x-python",
   "name": "python",
   "nbconvert_exporter": "python",
   "pygments_lexer": "ipython3",
   "version": "3.8.8"
  },
  "toc": {
   "base_numbering": 1,
   "nav_menu": {},
   "number_sections": true,
   "sideBar": true,
   "skip_h1_title": false,
   "title_cell": "Table of Contents",
   "title_sidebar": "Contents",
   "toc_cell": false,
   "toc_position": {},
   "toc_section_display": true,
   "toc_window_display": false
  }
 },
 "nbformat": 4,
 "nbformat_minor": 1
}
